{
 "cells": [
  {
   "cell_type": "markdown",
   "metadata": {},
   "source": [
    "## 注意(attention)！开始做前必读项！\n",
    "所有的代码一定要在这个文件里面编写，不要自己创建一个新的文件 对于提供的数据集，不要改存储地方，也不要修改文件名和内容 不要重新定义函数（如果我们已经定义好的），按照里面的思路来编写。当然，除了我们定义的部分，如有需要可以自行定义函数或者模块 写完之后，重新看一下哪一部分比较慢，然后试图去优化。一个好的习惯是每写一部分就思考这部分代码的时间复杂度和空间复杂度，AI工程是的日常习惯！ \n",
    "这次作业很重要，一定要完成！ 相信会有很多的收获！"
   ]
  },
  {
   "cell_type": "code",
   "execution_count": 5,
   "metadata": {
    "tags": []
   },
   "outputs": [],
   "source": [
    "import numpy as np\n",
    "import pandas as pd\n",
    "import os\n",
    "from gensim import models\n",
    "from sklearn.feature_extraction.text import TfidfVectorizer\n",
    "from sklearn.externals import joblib"
   ]
  },
  {
   "cell_type": "markdown",
   "metadata": {},
   "source": [
    "## 加载训练集文件和测试集文件"
   ]
  },
  {
   "cell_type": "code",
   "execution_count": 8,
   "metadata": {},
   "outputs": [],
   "source": [
    "data_text,data=[],[]\n",
    "stopWords=[]\n",
    "\n",
    "def load_data():\n",
    "    '''\n",
    "    函数说明：该函数用于加载数据集\n",
    "    return: \n",
    "        -data: 表示所有数据拼接的原始数据\n",
    "        -data_text: 表示数据集中的特征数据集\n",
    "        -datatext: 表示经过分词之后的特征数据集\n",
    "        -stopWords: 表示读取的停用词\n",
    "    '''\n",
    "    print('load Pre_process')\n",
    "    root_dir = '/home/user10000469/dataset/图书分类文本数据集/5813f3b1-617d-47ad-87e8-37a773a983af/file/归档/'\n",
    "    data = pd.concat([\n",
    "        pd.read_csv(root_dir + 'train_clean.csv', sep='\\t'),\n",
    "        pd.read_csv(root_dir + 'dev_clean.csv', sep='\\t'),\n",
    "        pd.read_csv(root_dir + 'test_clean.csv', sep='\\t')\n",
    "        ])\n",
    "    print(\"读取数据集完成\")\n",
    "    data_text = list(data.text)  # .apply(lambda x: x.split(' '))\n",
    "    datatext = []\n",
    "    for i in range(len(data_text)):\n",
    "        datatext.append(data_text[i].split(' '))\n",
    "    stopWords = open('data/stopwords.txt').readlines()\n",
    "    print(\"取停用词完成\")\n",
    "    return data, data_text,datatext, stopWords\n"
   ]
  },
  {
   "cell_type": "code",
   "execution_count": 9,
   "metadata": {},
   "outputs": [
    {
     "name": "stdout",
     "output_type": "stream",
     "text": [
      "load Pre_process\n",
      "读取数据集完成\n",
      "取停用词完成\n"
     ]
    }
   ],
   "source": [
    "data, data_text, datatext, stopWords=load_data()"
   ]
  },
  {
   "cell_type": "code",
   "execution_count": 10,
   "metadata": {},
   "outputs": [],
   "source": [
    "def trainer_tfidf():\n",
    "    '''\n",
    "    函数说明：该函数用于训练tfidf的词向量\n",
    "    return: \n",
    "        -tfidf: 表示经过TF-ID模型训练出的词向量\n",
    "    '''\n",
    "    # ToDo\n",
    "    # 根据数据集训练tfidf的词向量\n",
    "    # 第一步：首先通过TfidfVectorizer创建一个模型对象\n",
    "    count_vect = TfidfVectorizer(stop_words=stopWords, max_df=0.6, ngram_range=(1, 2))\n",
    "    # 第二步：用模型对象去fit训练数据集\n",
    "    tfidf = count_vect.fit_transform(data_text)\n",
    "    print('train tfidf_embedding')\n",
    "    #返回是一个稀疏矩阵\n",
    "    return tfidf\n"
   ]
  },
  {
   "cell_type": "code",
   "execution_count": 11,
   "metadata": {
    "tags": []
   },
   "outputs": [
    {
     "name": "stdout",
     "output_type": "stream",
     "text": [
      "train tfidf_embedding\n"
     ]
    }
   ],
   "source": [
    "tfidf = trainer_tfidf()"
   ]
  },
  {
   "cell_type": "markdown",
   "metadata": {},
   "source": [
    "根据数据集训练word2vec的词向量  \n",
    "利用models.Word2Vec训练w2v的词向量  \n",
    "部分参数说明：  \n",
    "min_count：表示低于该频率的词将会删除，  \n",
    "window：表示滑动窗口大小，  \n",
    "alpha：表示学习率，  \n",
    "negative：表示负采样样本个数，  \n",
    "max_vocab_size：表示RAM中最大限制的词个数  "
   ]
  },
  {
   "cell_type": "code",
   "execution_count": 12,
   "metadata": {},
   "outputs": [],
   "source": [
    "def trainer_w2v():\n",
    "    '''\n",
    "    函数说明：该函数基于Word2vec模型训练词向量\n",
    "    return: \n",
    "        -w2v: 表示经过word2vec模型训练出的词向量\n",
    "    '''\n",
    "    print('train word2vec Embedding')\n",
    "    # 训练w2v的词向量\n",
    "    # 第一步：利用models.Word2Vec构建一个模型，\n",
    "    w2v = models.Word2Vec(min_count=2,\n",
    "                                window=3,\n",
    "                                size=300,\n",
    "                                sample=6e-5,\n",
    "                                alpha=0.03,\n",
    "                                min_alpha=0.0007,\n",
    "                                negative=15,\n",
    "                                workers=4,\n",
    "                                iter=10,\n",
    "                                max_vocab_size=50000) \n",
    "        \n",
    "    w2v.build_vocab(datatext)\n",
    "\n",
    "    w2v.train(datatext,\n",
    "              total_examples=w2v.corpus_count,\n",
    "              epochs=15,\n",
    "              report_delay=1)\n",
    "        \n",
    "    print('train fast_embedding')\n",
    "    return w2v"
   ]
  },
  {
   "cell_type": "code",
   "execution_count": 13,
   "metadata": {
    "tags": []
   },
   "outputs": [
    {
     "name": "stdout",
     "output_type": "stream",
     "text": [
      "train word2vec Embedding\n",
      "train fast_embedding\n"
     ]
    }
   ],
   "source": [
    "w2v = trainer_w2v()"
   ]
  },
  {
   "cell_type": "code",
   "execution_count": 16,
   "metadata": {},
   "outputs": [],
   "source": [
    "def trainer_fasttext():\n",
    "    '''\n",
    "    函数说明：该函数基于FastText模型训练词向量\n",
    "    return: \n",
    "        -fast: 表示经过FastText模型训练出的词向量\n",
    "    '''\n",
    "    # ToDo\n",
    "    # 根据数据集训练FastTExt的词向量\n",
    "    # hint: 利用models.FastText,\n",
    "    # 可使用部分参数说明：\n",
    "    # size：生成的向量维度，\n",
    "    # window: 移动窗口，\n",
    "    # aphla: 学习率，\n",
    "    # min_count: 对低于该频率的词进行截断\n",
    "    # 可以参照trainer_w2v函数完成FastText的词向量的训练\n",
    "    # 可以直接根据models.FastText直接训练样本获取词向量\n",
    "    # fast = models.FastText\n",
    "    fast = models.FastText(sentences=datatext,\n",
    "                    size=300,\n",
    "                    window=3,\n",
    "                    alpha=0.03,\n",
    "                    min_alpha=0.0001,\n",
    "                    min_count=2,\n",
    "                    max_vocab_size=50000,\n",
    "                    word_ngrams=1,\n",
    "                    sample=1e-3,\n",
    "                    seed=1,\n",
    "                    workers=4,\n",
    "                    negative=5,\n",
    "                    iter=10)\n",
    "    \n",
    "    return fast"
   ]
  },
  {
   "cell_type": "code",
   "execution_count": 17,
   "metadata": {},
   "outputs": [],
   "source": [
    "fast= trainer_fasttext()"
   ]
  },
  {
   "cell_type": "code",
   "execution_count": 18,
   "metadata": {
    "tags": []
   },
   "outputs": [
    {
     "name": "stdout",
     "output_type": "stream",
     "text": [
      "/home/user10000469/notespace\n",
      "save tfidf model\n",
      "save word2vec model\n",
      "save fast model\n"
     ]
    }
   ],
   "source": [
    "def saver():\n",
    "    '''\n",
    "    函数说明：该函数存储训练好的模型\n",
    "    '''\n",
    "    #Todo\n",
    "    # hint: 通过joblib.dump保存tfidf\n",
    "    print('save tfidf model')\n",
    "    joblib.dump(tfidf, 'model/tfidf_model')\n",
    "\n",
    "    # hint: w2v可以通过自带的save函数进行保存\n",
    "    print('save word2vec model')\n",
    "    w2v.save('model/w2v_model_50000')\n",
    "\n",
    "     # hint: fast可以通过自带的save函数进行保存\n",
    "    print('save fast model')\n",
    "    fast.save('model/fast_model_50000')\n",
    "\n",
    "\n",
    "print(os.getcwd())\n",
    "saver()\n"
   ]
  },
  {
   "cell_type": "code",
   "execution_count": 19,
   "metadata": {
    "tags": []
   },
   "outputs": [
    {
     "name": "stdout",
     "output_type": "stream",
     "text": [
      "load tfidf_embedding model\n",
      "load w2v_embedding model\n",
      "Word2Vec(vocab=19592, size=300, alpha=0.03)\n",
      "load fast_embedding model\n",
      "FastText(vocab=19592, size=300, alpha=0.03)\n"
     ]
    }
   ],
   "source": [
    "from gensim.models import Word2Vec\n",
    "\n",
    "def load():\n",
    "    '''\n",
    "    函数说明：该函数加载训练好的模型\n",
    "    '''\n",
    "    #ToDo\n",
    "    # 加载模型 \n",
    "    # hint: tfidf可以通过joblib.load进行加载\n",
    "    # w2v和fast可以通过gensim.models.KeyedVectors.load加载\n",
    "    print('load tfidf_embedding model')\n",
    "    tfidf =  joblib.load('model/tfidf_model')\n",
    "    print('load w2v_embedding model')\n",
    "    w2v =  models.KeyedVectors.load('model/w2v_model_50000')\n",
    "    print(w2v)\n",
    "    print('load fast_embedding model')\n",
    "    fast =  models.KeyedVectors.load('model/fast_model_50000')\n",
    "    print(fast)\n",
    "load()"
   ]
  }
 ],
 "metadata": {
  "kernelspec": {
   "display_name": "Python 3",
   "language": "python",
   "name": "python3"
  },
  "language_info": {
   "codemirror_mode": {
    "name": "ipython",
    "version": 3
   },
   "file_extension": ".py",
   "mimetype": "text/x-python",
   "name": "python",
   "nbconvert_exporter": "python",
   "pygments_lexer": "ipython3",
   "version": "3.6.7"
  }
 },
 "nbformat": 4,
 "nbformat_minor": 4
}
