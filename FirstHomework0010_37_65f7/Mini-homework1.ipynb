{
 "cells": [
  {
   "cell_type": "markdown",
   "metadata": {},
   "source": [
    "## Mini-homework 1\n",
    "### Problem 1. Fibonacci Sequence\n",
    "对于斐波那契数列，相信大家都比较熟悉了，就是一个数列，如下所示：\n",
    "\n",
    "1,1,2,3,5,8,13,21,....  \n",
    "\n",
    "如果想用程序来寻找第N个数，其实很简单，一个循环就可以算出来。但现在，我们不想这么算，而是直接通过closed-form来计算。\n",
    "\n",
    "请证明 fibonacci数列的closed-form：\n",
    "\n",
    "$f(n)=\\frac{1}{\\sqrt{5}}(\\frac{1+\\sqrt{5}}{2})^n-\\frac{1}{\\sqrt{5}}(\\frac{1-\\sqrt{5}}{2})^n$ \n",
    "\n",
    "(通过这个例子希望很好地回顾矩阵相关的内容）\n"
   ]
  },
  {
   "cell_type": "markdown",
   "metadata": {},
   "source": [
    "// 如果之前没有用过LaTeX， 请查看它的使用方法，网络上有大量的资料。 在本次小作业的最后部分，为了方便大家的理解，写了几个公式，大家可以对照看一看，试着理解对应关系。 双击即可看到latex源码。 \n",
    "\n",
    "\n",
    "// your proof is here....\n",
    "\n",
    "\n",
    "\n",
    "\n",
    "\n",
    "\n",
    "\n",
    "\n",
    "\n",
    "\n",
    "\n",
    "\n",
    "\n"
   ]
  },
  {
   "cell_type": "markdown",
   "metadata": {},
   "source": [
    "设有一个矩阵 M使得$\\begin{pmatrix}F_n\\\\F_{n+1}\\end{pmatrix}=M\\begin{pmatrix}F_{n-1}\\\\F_{n}\\end{pmatrix}$\n",
    "\n",
    "设 $M=\\begin{pmatrix}A&C\\\\B&D\\end{pmatrix}$$就有$$\\begin{pmatrix}F_n\\\\F_{n+1}\\end{pmatrix}=\\begin{pmatrix}AF_{n-1}+CF_{n}\\\\BF_{n-1}+DF_{n}\\end{pmatrix}$\n",
    "\n",
    "直接令 A=0，再令 C=B=D=1 ，得到 $M=\\begin{pmatrix}0&1\\\\1&1\\end{pmatrix}$\n",
    "\n",
    "把 M特征分解，就可以求出 $\\begin{pmatrix}F_n\\\\F_{n+1}\\end{pmatrix}$的通项式\n",
    "\n",
    "$\\begin{pmatrix}F_n\\\\F_{n+1}\\end{pmatrix}=M\\begin{pmatrix}F_{n-1}\\\\F_{n}\\end{pmatrix}\\Rightarrow\\begin{pmatrix}F_n\\\\F_{n+1}\\end{pmatrix}=M^n\\begin{pmatrix}F_{0}\\\\F_{1}\\end{pmatrix}\\Rightarrow\\begin{pmatrix}F_n\\\\F_{n+1}\\end{pmatrix}=PD^nP^{-1}\\begin{pmatrix}0\\\\1\\end{pmatrix}$\n",
    "\n",
    "解特征方程 $\\det(M-\\lambda I)=0$得到M的特征值$\\lambda=\\frac{1\\pm\\displaystyle\\sqrt{5}}{2}$\n",
    "\n",
    "然后得到两个的特征向量 $\\begin{pmatrix}1\\\\\\\\\\displaystyle\\frac{1\\pm\\sqrt 5}{2}\\end{pmatrix}$\n",
    "\n",
    "$\\begin{aligned}P^{-1}&=\\begin{vmatrix}1&1\\\\\\\\\\displaystyle\\frac{1+\\sqrt 5}{2}&\\displaystyle\\frac{1-\\sqrt 5}{2}\\end{vmatrix}^{-1}\\begin{pmatrix}\\displaystyle\\frac{1-\\sqrt 5}{2}&-\\displaystyle\\frac{1+\\sqrt 5}{2}\\\\\\\\-1&1\\end{pmatrix}^{\\rm T}\\\\&=\\begin{pmatrix}\\displaystyle\\frac{\\sqrt 5-1}{2\\sqrt 5}&\\displaystyle\\frac{1}{\\sqrt 5}\\\\\\\\\\displaystyle\\frac{\\sqrt 5 + 1}{2\\sqrt 5}&\\displaystyle-\\frac{1}{\\sqrt 5}\\end{pmatrix}\\end{aligned}$\n",
    "\n",
    "$\\begin{aligned}F_n&=\\begin{pmatrix}1&0\\end{pmatrix}\\begin{pmatrix}1&1\\\\\\\\\\displaystyle\\frac{1+\\sqrt 5}{2}&\\displaystyle\\frac{1-\\sqrt 5}{2}\\end{pmatrix}\\begin{pmatrix}\\displaystyle\\left(\\frac{1+\\sqrt 5}{2}\\right)^{n}&0\\\\0&\\displaystyle\\left(\\frac{1-\\sqrt 5}{2}\\right)^n\\end{pmatrix}\\begin{pmatrix}\\displaystyle\\frac{\\sqrt 5-1}{2\\sqrt 5}&\\displaystyle\\frac{1}{\\sqrt 5}\\\\\\\\\\displaystyle\\frac{\\sqrt 5 + 1}{2\\sqrt 5}&\\displaystyle-\\frac{1}{\\sqrt 5}\\end{pmatrix}\\begin{pmatrix}0\\\\1\\end{pmatrix}\\\\&=\\begin{pmatrix}1&0\\end{pmatrix}\\begin{pmatrix}1&1\\\\\\\\\\displaystyle\\frac{1+\\sqrt 5}{2}&\\displaystyle\\frac{1-\\sqrt 5}{2}\\end{pmatrix}\\begin{pmatrix}\\displaystyle\\left(\\frac{1+\\sqrt 5}{2}\\right)^{n}&0\\\\0&\\displaystyle\\left(\\frac{1-\\sqrt 5}{2}\\right)^n\\end{pmatrix}\\begin{pmatrix}\\displaystyle\\frac{1}{\\sqrt{5}}\\\\\\\\\\displaystyle-\\frac{1}{\\sqrt{5}}\\end{pmatrix}\\\\&=\\frac{2^{-n}}{\\sqrt 5}\\begin{pmatrix}1&0\\end{pmatrix}\\begin{pmatrix}1&1\\\\\\\\\\displaystyle\\frac{1+\\sqrt 5}{2}&\\displaystyle\\frac{1-\\sqrt 5}{2}\\end{pmatrix}\\begin{pmatrix}\\displaystyle\\left(1+\\sqrt 5\\right)^n\\\\-\\displaystyle\\left(1-\\sqrt 5\\right)^n\\end{pmatrix}\\\\&=\\frac{\\displaystyle\\left(\\frac{1+\\displaystyle\\sqrt{5}}{2}\\right)^n-\\displaystyle\\left(\\frac{1-\\displaystyle\\sqrt{5}}{2}\\right)^n}{\\displaystyle\\sqrt{5}}\\end{aligned}$\n",
    "\n",
    "所以$F_n=\\frac{1}{\\sqrt{5}}(\\frac{1+\\sqrt{5}}{2})^n-\\frac{1}{\\sqrt{5}}(\\frac{1-\\sqrt{5}}{2})^n$"
   ]
  },
  {
   "cell_type": "markdown",
   "metadata": {},
   "source": [
    "### Problem2. Algorithmic Complexity\n",
    "1. 对于下面的复杂度，从小大排一下顺序：\n",
    "\n",
    "$O(N), O(1), O(N^2),  O(2^N),  O(N\\log N),  O(N!),  O(1),  O(\\log N),  O(3^N),  O(N^2\\log N), O(N^{2.1})$\n"
   ]
  },
  {
   "cell_type": "markdown",
   "metadata": {},
   "source": [
    "// your answer....\n",
    "\n",
    "\n",
    "$O(1),  O(\\log N),O(N),  O(N\\log N),  O(N^2), O(N^{2.1}),  O(N^2\\log N),  O(2^N),  O(3^N),  O(N!)$\n",
    "\n",
    "\n",
    "\n",
    "\n",
    "\n",
    "\n"
   ]
  },
  {
   "cell_type": "markdown",
   "metadata": {},
   "source": [
    "2. 判断题\n",
    "\n",
    "如果A算法的复杂度为O(log N), B算法的复杂度为O(N)，那么A算法的实际运行时间一定会小于算法B的实际运行时间（假设是同样的硬件设备）。 是 或者 否"
   ]
  },
  {
   "cell_type": "markdown",
   "metadata": {},
   "source": [
    "// your answer\n",
    "\n",
    "否，需要看常量系数和N的具体大小\n",
    "\n",
    "\n",
    "\n",
    "\n",
    "\n"
   ]
  },
  {
   "cell_type": "markdown",
   "metadata": {},
   "source": [
    "### Problem 3  Dynamic Programming Problem"
   ]
  },
  {
   "cell_type": "markdown",
   "metadata": {},
   "source": [
    "#### Edit Distance (编辑距离）\n",
    "编辑距离用来计算两个字符串之间的最短距离，这里涉及到三个不通过的操作来完成，分别是 add, delete和replace，假定每个操作会产生1个单位的cost.  \n",
    "\n",
    "例子： \"apple\", \"appl\" 之间的编辑距离为1 （需要1个删除的操作）\n",
    "\"machine\", \"macaide\" dist = 2\n",
    "\"mach\", \"aaach\"  dist=2"
   ]
  },
  {
   "cell_type": "code",
   "execution_count": 77,
   "metadata": {
    "collapsed": false
   },
   "outputs": [
    {
     "name": "stdout",
     "output_type": "stream",
     "text": [
      "dp table: \n",
      "0 1 2 3 \n",
      "1 0 1 2 \n",
      "2 1 0 1 \n",
      "3 2 1 0 \n",
      "4 3 2 1 \n",
      "5 4 3 2 \n",
      "2\n"
     ]
    }
   ],
   "source": [
    "def edit_dist(str1, str2):\n",
    "    # 两个string 输入\n",
    "    # your code here\n",
    "    m = len(str1)\n",
    "    n = len(str2)\n",
    "    dp = [[0 for j in range(n+1)] for i in range(m+1)]\n",
    "    \n",
    "    for i in range(1, m+1):\n",
    "        dp[i][0] = i\n",
    "    for j in range(1, n+1):\n",
    "        dp[0][j] = j\n",
    "    \n",
    "    for i in range(1, m+1):\n",
    "        for j in range(1, n+1):\n",
    "            if (str1[i-1] == str2[j-1]):\n",
    "                dp[i][j] = dp[i - 1][j - 1]\n",
    "            else:\n",
    "                dp[i][j] = min(dp[i - 1][j] + 1, dp[i][j - 1] + 1, dp[i-1][j-1] + 1)\n",
    "    \n",
    "    print('dp table: ')\n",
    "    for i in range(0, m+1):\n",
    "        for j in range(0, n+1):\n",
    "            print(dp[i][j], end=' ')\n",
    "        print()\n",
    "    \n",
    "    return dp[m][n]\n",
    "\n",
    "\n",
    "print(edit_dist(\"apple\", \"app\"))\n",
    "# print(edit_dist(\"computer\", \"comuyiter\"))"
   ]
  },
  {
   "cell_type": "markdown",
   "metadata": {},
   "source": [
    "#### 拓展阅读\n",
    "编辑距离经常用于处理拼写纠错的场景，比如一个单词“computr\"被拼错了，这时候可以通过edit distance来寻找正确的单词如computer, compute等等。但具体选择哪一个单词呢？ 这得看跟上下文的匹配程度！ 如果上下文为 I want to play computr game\"， 则需要还原成computer;  如果上下文为”I need  to computr the distance“, 则需要还原成compute. 这部分的工作其实可以用语言模型来完成的，它可以帮你判断一个句子的语法上是否通顺。这部分的内容还没有在课程中讲过，但作为阅读的部分，可以提前看一下。\n",
    "\n",
    "https://norvig.com/spell-correct.html"
   ]
  },
  {
   "cell_type": "markdown",
   "metadata": {},
   "source": []
  },
  {
   "cell_type": "markdown",
   "metadata": {},
   "source": [
    "### Problem 4 非技术问题\n",
    "\n",
    "\n",
    "Q1: 之前或者现在，做过哪些AI项目/NLP项目？可以适当说一下采用的解决方案，如果目前还没有想出合适的解决方案，也可以说明一下大致的想法。 请列举几个点。\n",
    "\n",
    "\n",
    "知识点标签智能标注项目\n",
    "\n",
    "- 场景：公司K12领域，每个学科年级都有一两万个知识点，教研老师每天需要给小初高试题标注一定量的知识点，耗时并且质量不高\n",
    "\n",
    "- 目标：根据试题的文本内容，给老师自动推荐各个知识点类型下概率最高的前15个知识点\n",
    "\n",
    "- 方案：腾讯300维静态词向量、 bilstm + cnn + Attention、softmax、F1-score\n",
    "- 细节：\n",
    "    - 因为每个学科差异性太大，训练时，是针对学段（小初高）学科（数理化），比如初中数学单独训练的\n",
    "    - 词向量选择的腾讯公开的词向量，因为发现它的公式特殊符号（比如∵）相对齐全。而试题文本，比如latex公式里，“三角形、因为、所以、中括号” 等都有很多表示方式，数据预处理时都统一转换为了符号“△，∵，∴，√”等，并没有替换为中文‘三角形’等。训练后发现，当题目文本为纯latex数学公式时，预测推荐的知识点召回率也很高。\n",
    "    - 现实场景中，老师打知识点标签主要根据试题的题干，而不是答案解析。拼接题干与解析时，给予了题干更高的权重。\n",
    "    - 选择bilstm + cnn + Attention，只是因为当时这个模型很火.... -。-\n",
    "- 结果：这个知识点预测项目已经上线了，主要针对数理化。\n",
    "\n",
    "\n"
   ]
  },
  {
   "cell_type": "markdown",
   "metadata": {},
   "source": [
    "Q2: 下一步的目标是什么？ 为了达成下一步目标，你觉得需要提升哪方面的能力？ \n",
    "\n",
    "- 工程能力弱，缺乏实战（一般都是从github下载项目，通过改代码实现功能。。）\n",
    "- 之前自学，知识不成体系（碰到问题，不知道怎么着手进一步优化）\n"
   ]
  },
  {
   "cell_type": "markdown",
   "metadata": {},
   "source": [
    "Q3: 参加训练营，最想获得的是什么？可以列举几个点。\n",
    "\n",
    "了解前沿技术，提高实战能力\n"
   ]
  },
  {
   "cell_type": "markdown",
   "metadata": {},
   "source": [
    "#### latex examples\n",
    "$\\alpha + \\beta = \\gamma$\n",
    "\n",
    "$\\sum_{i=1}^{N}x_i + y_i=1$\n",
    "\n",
    "$\\frac{1}{\\sigma(x)}$\n",
    "\n",
    "$\\log x +x^2 $\n",
    "\n",
    "$p(D=1|w,c;\\Theta)=\\frac{1}{1+\\exp(-\\mathbf{u}_w\\cdot \\mathbf{v}_c)}=\\sigma(\\mathbf{u}_w\\cdot \\mathbf{v}_c))$\n",
    "\n",
    "$\n",
    "\\frac{\\partial \\mathcal{L}}{\\partial \\mathbf{u}_c}=\\mathbf{v}_w - \\frac{e^{\\mathbf{u}_{c'}\\cdot\\mathbf{v}_w}\\mathbf{v}_w}{\\sum_{c'\\in \\mathcal{V}}^{}e^{\\mathbf{u}_{c'}\\cdot\\mathbf{v}_w}}\n",
    "$\n",
    "\n",
    "$\n",
    "\\text{最大化} ~~\\log(\\prod_{w\\in \\mathbf{S}}^{}\\prod_{c\\in \\text{context}(w)}^{}p(c|w; \\Theta))\n",
    "$\n",
    "\n",
    "编写文档或者书籍的时候，我们通常都会使用latex， 但通常不需要把环境安装在本地上，一个比较常用的线上编辑器是overleaf，使用起来很方便。 \n"
   ]
  },
  {
   "cell_type": "code",
   "execution_count": null,
   "metadata": {
    "collapsed": true
   },
   "outputs": [],
   "source": []
  }
 ],
 "metadata": {
  "anaconda-cloud": {},
  "kernelspec": {
   "display_name": "Python [default]",
   "language": "python",
   "name": "python3"
  },
  "language_info": {
   "codemirror_mode": {
    "name": "ipython",
    "version": 3
   },
   "file_extension": ".py",
   "mimetype": "text/x-python",
   "name": "python",
   "nbconvert_exporter": "python",
   "pygments_lexer": "ipython3",
   "version": "3.5.2"
  }
 },
 "nbformat": 4,
 "nbformat_minor": 2
}
