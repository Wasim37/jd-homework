{
 "cells": [
  {
   "cell_type": "code",
   "execution_count": null,
   "metadata": {},
   "outputs": [],
   "source": [
    "\n"
   ]
  },
  {
   "cell_type": "code",
   "execution_count": 56,
   "metadata": {
    "scrolled": true
   },
   "outputs": [],
   "source": [
    "# !pip3 install jieba==0.36.2\n",
    "import jieba\n",
    "import http.client\n",
    "import hashlib\n",
    "import urllib\n",
    "import random\n",
    "import json\n",
    "import time\n",
    "from data_utils import write_samples\n",
    "import jieba\n",
    "import os\n",
    "\n",
    "def translate(q, source, target):\n",
    "    appid = '20200808000537685'  # 填写你的appid\n",
    "    secretKey = 'V1Z9oqVyyYLuNyvudPHG'  # 填写你的密钥\n",
    "\n",
    "    httpClient = None\n",
    "    myurl = '/api/trans/vip/translate'\n",
    "\n",
    "    fromLang = source   #原文语种\n",
    "    toLang = target   #译文语种\n",
    "    salt = random.randint(32768, 65536)\n",
    "    sign = appid + q + str(salt) + secretKey\n",
    "    sign = hashlib.md5(sign.encode()).hexdigest()\n",
    "    myurl = '/api/trans/vip/translate' + '?appid=' + appid + '&q=' + urllib.parse.quote(q) + '&from=' + fromLang + '&to=' + toLang + '&salt=' + str(\n",
    "    salt) + '&sign=' + sign\n",
    "\n",
    "    try:\n",
    "        httpClient = http.client.HTTPConnection('api.fanyi.baidu.com')\n",
    "        httpClient.request('GET', myurl)\n",
    "\n",
    "        # response是HTTPResponse对象\n",
    "        response = httpClient.getresponse()\n",
    "        result_all = response.read().decode(\"utf-8\")\n",
    "        result = json.loads(result_all)\n",
    "\n",
    "        return result\n",
    "\n",
    "    except Exception as e:\n",
    "        print (e)\n",
    "    finally:\n",
    "        if httpClient:\n",
    "            httpClient.close()\n",
    "            \n",
    "def back_translate(q):\n",
    "    en = translate(q, \"zh\", 'en')['trans_result'][0]['dst']\n",
    "    #print(en)\n",
    "    time.sleep(1)\n",
    "    target = translate(en, \"en\", 'zh')['trans_result'][0]['dst']\n",
    "    #print(target)\n",
    "    time.sleep(1)\n",
    "    return target\n",
    "\n",
    "\n",
    "def translate_continue(sample_path, translate_path):\n",
    "    if os.path.exists(translate_path):\n",
    "        with open(translate_path, 'r+', encoding='utf8') as file:\n",
    "            exit_len = len(list(file))\n",
    "    else:\n",
    "        with open(translate_path, 'w', encoding='utf8') as file:\n",
    "            exit_len = 0\n",
    "        \n",
    "    translated = []\n",
    "    count = 0\n",
    "    with open(sample_path, 'r', encoding='utf8') as file:\n",
    "        for line in file:\n",
    "            #line = line.replace('<sep>', '<--->')\n",
    "            #print(line)\n",
    "            count += 1\n",
    "            print(count)\n",
    "            if count <= exit_len:\n",
    "                #print('continue')\n",
    "                continue\n",
    "            #if '<*SEP*>' in :\n",
    "            source, ref = tuple(line.strip().split('<sep>'))\n",
    "            source = back_translate(source.strip())\n",
    "            ref = back_translate(ref.strip())\n",
    "            #print(sample)\n",
    "            source = ' '.join(list(jieba.cut(source)))\n",
    "            ref = ' '.join(list(jieba.cut(ref)))\n",
    "            #print(source)\n",
    "            #print(ref )\n",
    "            translated.append(source +' <sep> '+ ref)\n",
    "            \n",
    "            if count % 10 == 0:\n",
    "                print(count)\n",
    "                write_samples(translated, translate_path, 'a')\n",
    "                translated = []\n",
    "            if count == 12 or count == 25:\n",
    "                write_samples(translated, translate_path, 'a')\n",
    "                break\n",
    "\n",
    "sample_path = 'output/samples.txt'\n",
    "translate_path = 'output/translated.txt'"
   ]
  },
  {
   "cell_type": "code",
   "execution_count": null,
   "metadata": {},
   "outputs": [],
   "source": []
  },
  {
   "cell_type": "code",
   "execution_count": 57,
   "metadata": {
    "scrolled": true
   },
   "outputs": [
    {
     "name": "stdout",
     "output_type": "stream",
     "text": [
      "1\n",
      "2\n",
      "3\n",
      "4\n",
      "5\n",
      "6\n",
      "7\n",
      "8\n",
      "9\n",
      "10\n",
      "11\n",
      "12\n",
      "13\n",
      "14\n",
      "15\n",
      "16\n",
      "17\n",
      "18\n",
      "19\n",
      "20\n",
      "21\n",
      "22\n",
      "23\n",
      "24\n",
      "25\n",
      "26\n"
     ]
    },
    {
     "ename": "KeyboardInterrupt",
     "evalue": "",
     "output_type": "error",
     "traceback": [
      "\u001b[1;31m---------------------------------------------------------------------------\u001b[0m",
      "\u001b[1;31mKeyboardInterrupt\u001b[0m                         Traceback (most recent call last)",
      "\u001b[1;32m<ipython-input-57-805c1d11a780>\u001b[0m in \u001b[0;36m<module>\u001b[1;34m\u001b[0m\n\u001b[1;32m----> 1\u001b[1;33m \u001b[0mtranslate_continue\u001b[0m\u001b[1;33m(\u001b[0m\u001b[0msample_path\u001b[0m\u001b[1;33m,\u001b[0m \u001b[0mtranslate_path\u001b[0m\u001b[1;33m)\u001b[0m\u001b[1;33m\u001b[0m\u001b[1;33m\u001b[0m\u001b[0m\n\u001b[0m",
      "\u001b[1;32m<ipython-input-56-8c20d8fdbe04>\u001b[0m in \u001b[0;36mtranslate_continue\u001b[1;34m(sample_path, translate_path)\u001b[0m\n\u001b[0;32m     75\u001b[0m             \u001b[0msource\u001b[0m\u001b[1;33m,\u001b[0m \u001b[0mref\u001b[0m \u001b[1;33m=\u001b[0m \u001b[0mtuple\u001b[0m\u001b[1;33m(\u001b[0m\u001b[0mline\u001b[0m\u001b[1;33m.\u001b[0m\u001b[0mstrip\u001b[0m\u001b[1;33m(\u001b[0m\u001b[1;33m)\u001b[0m\u001b[1;33m.\u001b[0m\u001b[0msplit\u001b[0m\u001b[1;33m(\u001b[0m\u001b[1;34m'<sep>'\u001b[0m\u001b[1;33m)\u001b[0m\u001b[1;33m)\u001b[0m\u001b[1;33m\u001b[0m\u001b[1;33m\u001b[0m\u001b[0m\n\u001b[0;32m     76\u001b[0m             \u001b[0msource\u001b[0m \u001b[1;33m=\u001b[0m \u001b[0mback_translate\u001b[0m\u001b[1;33m(\u001b[0m\u001b[0msource\u001b[0m\u001b[1;33m.\u001b[0m\u001b[0mstrip\u001b[0m\u001b[1;33m(\u001b[0m\u001b[1;33m)\u001b[0m\u001b[1;33m)\u001b[0m\u001b[1;33m\u001b[0m\u001b[1;33m\u001b[0m\u001b[0m\n\u001b[1;32m---> 77\u001b[1;33m             \u001b[0mref\u001b[0m \u001b[1;33m=\u001b[0m \u001b[0mback_translate\u001b[0m\u001b[1;33m(\u001b[0m\u001b[0mref\u001b[0m\u001b[1;33m.\u001b[0m\u001b[0mstrip\u001b[0m\u001b[1;33m(\u001b[0m\u001b[1;33m)\u001b[0m\u001b[1;33m)\u001b[0m\u001b[1;33m\u001b[0m\u001b[1;33m\u001b[0m\u001b[0m\n\u001b[0m\u001b[0;32m     78\u001b[0m             \u001b[1;31m#print(sample)\u001b[0m\u001b[1;33m\u001b[0m\u001b[1;33m\u001b[0m\u001b[1;33m\u001b[0m\u001b[0m\n\u001b[0;32m     79\u001b[0m             \u001b[0msource\u001b[0m \u001b[1;33m=\u001b[0m \u001b[1;34m' '\u001b[0m\u001b[1;33m.\u001b[0m\u001b[0mjoin\u001b[0m\u001b[1;33m(\u001b[0m\u001b[0mlist\u001b[0m\u001b[1;33m(\u001b[0m\u001b[0mjieba\u001b[0m\u001b[1;33m.\u001b[0m\u001b[0mcut\u001b[0m\u001b[1;33m(\u001b[0m\u001b[0msource\u001b[0m\u001b[1;33m)\u001b[0m\u001b[1;33m)\u001b[0m\u001b[1;33m)\u001b[0m\u001b[1;33m\u001b[0m\u001b[1;33m\u001b[0m\u001b[0m\n",
      "\u001b[1;32m<ipython-input-56-8c20d8fdbe04>\u001b[0m in \u001b[0;36mback_translate\u001b[1;34m(q)\u001b[0m\n\u001b[0;32m     49\u001b[0m     \u001b[0mtarget\u001b[0m \u001b[1;33m=\u001b[0m \u001b[0mtranslate\u001b[0m\u001b[1;33m(\u001b[0m\u001b[0men\u001b[0m\u001b[1;33m,\u001b[0m \u001b[1;34m\"en\"\u001b[0m\u001b[1;33m,\u001b[0m \u001b[1;34m'zh'\u001b[0m\u001b[1;33m)\u001b[0m\u001b[1;33m[\u001b[0m\u001b[1;34m'trans_result'\u001b[0m\u001b[1;33m]\u001b[0m\u001b[1;33m[\u001b[0m\u001b[1;36m0\u001b[0m\u001b[1;33m]\u001b[0m\u001b[1;33m[\u001b[0m\u001b[1;34m'dst'\u001b[0m\u001b[1;33m]\u001b[0m\u001b[1;33m\u001b[0m\u001b[1;33m\u001b[0m\u001b[0m\n\u001b[0;32m     50\u001b[0m     \u001b[1;31m#print(target)\u001b[0m\u001b[1;33m\u001b[0m\u001b[1;33m\u001b[0m\u001b[1;33m\u001b[0m\u001b[0m\n\u001b[1;32m---> 51\u001b[1;33m     \u001b[0mtime\u001b[0m\u001b[1;33m.\u001b[0m\u001b[0msleep\u001b[0m\u001b[1;33m(\u001b[0m\u001b[1;36m1\u001b[0m\u001b[1;33m)\u001b[0m\u001b[1;33m\u001b[0m\u001b[1;33m\u001b[0m\u001b[0m\n\u001b[0m\u001b[0;32m     52\u001b[0m     \u001b[1;32mreturn\u001b[0m \u001b[0mtarget\u001b[0m\u001b[1;33m\u001b[0m\u001b[1;33m\u001b[0m\u001b[0m\n\u001b[0;32m     53\u001b[0m \u001b[1;33m\u001b[0m\u001b[0m\n",
      "\u001b[1;31mKeyboardInterrupt\u001b[0m: "
     ]
    }
   ],
   "source": [
    "translate_continue(sample_path, translate_path)"
   ]
  },
  {
   "cell_type": "code",
   "execution_count": 47,
   "metadata": {},
   "outputs": [
    {
     "name": "stdout",
     "output_type": "stream",
     "text": [
      "In summer, the new trend of one character shoulder shirt women's shopping mall with black stripes, sunshine, personality, environmental protection, etc. expresses the attitude of young people. Different popular elements add brightness to this series, washing and maintenance. The inspiration of fashion series comes from different forms of expression. Exaggerated patterns have popular style, soft wash sleeve type, conventional sleeve version Slim combination form one piece collar one-piece collar brand labopo pattern letter style street shot pattern cultural creativity applicable to 25-29 years old sleeve length short sleeve popular elements printed clothing long conventional material other launch time summer 2018 < --- > T-shirt used black and white stripes collocation, black and white is a simple and more temperament color, The whole is more youthful. With the embellishment of letter printing, the details are enriched. The off shoulder design reveals the charming swan neck and exquisite clavicle, showing more sexy charm.\n",
      "夏季，一字肩衬衫女装商场的新潮流，黑色条纹、阳光、个性、环保等，表达了年轻人的态度。不同的流行元素增加了这个系列的亮度，洗涤和保养。时装系列的灵感来源于不同的表现形式。夸张的图案有流行的款式，柔软的洗袖式，传统袖版修身组合式连体领品牌labopo图案字母式街拍图案文化创意适用于25-29岁袖长短袖流行元素印花服装长款传统材料其他上市时间2018年夏季<--->T恤采用黑白相间条纹搭配，黑白是一种简单又更具气质的颜色，整体更显年轻。在字母印刷的点缀下，细节更加丰富。露肩设计展现迷人的天鹅颈和精致的锁骨，更显性感魅力。\n"
     ]
    },
    {
     "data": {
      "text/plain": [
       "'夏季，一字肩衬衫女装商场的新潮流，黑色条纹、阳光、个性、环保等，表达了年轻人的态度。不同的流行元素增加了这个系列的亮度，洗涤和保养。时装系列的灵感来源于不同的表现形式。夸张的图案有流行的款式，柔软的洗袖式，传统袖版修身组合式连体领品牌labopo图案字母式街拍图案文化创意适用于25-29岁袖长短袖流行元素印花服装长款传统材料其他上市时间2018年夏季<--->T恤采用黑白相间条纹搭配，黑白是一种简单又更具气质的颜色，整体更显年轻。在字母印刷的点缀下，细节更加丰富。露肩设计展现迷人的天鹅颈和精致的锁骨，更显性感魅力。'"
      ]
     },
     "execution_count": 47,
     "metadata": {},
     "output_type": "execute_result"
    }
   ],
   "source": [
    "back_translate(\"\"\"夏季 新款 潮流 一字 肩 恤 女 商场 同款 黑 条纹 阳光 潮流 个性 环保 等 表达 出 年轻人 的 态度 ， 不同 的 流行 元素 为本 系列 增添 亮 ， 洗涤 养护 ， 潮流 系列 灵感 来源于 不同 表现形式 ， 夸张 的 图案 具有 流行性 的 款式 ， 柔 水洗袖型 常规袖 版型 修身型 组合形式 单件 领型 一字领 品牌 拉拉波波 图案 字母 风格 街拍 图案文化 创意 适用年龄 25-29周岁 袖长 短袖 流行元素 印花 衣长 常规款 材质 其它 上市时间 2018年夏季  <---> T恤 使用 了 黑白 条纹 的 搭配 ， 黑白 两色 是 一种 简约 更显 气质 的 配色 ， 整体 更显 青春 。 加以 字母 印花 的 点缀 ， 丰富 了 细节 。 一字 肩 的 设计 显露出 迷人 的 天鹅 颈 和 精致 的 锁骨 ， 更显 性感 魅力 。\"\"\")"
   ]
  },
  {
   "cell_type": "code",
   "execution_count": null,
   "metadata": {},
   "outputs": [],
   "source": []
  },
  {
   "cell_type": "code",
   "execution_count": null,
   "metadata": {},
   "outputs": [],
   "source": []
  },
  {
   "cell_type": "code",
   "execution_count": 55,
   "metadata": {},
   "outputs": [
    {
     "name": "stdout",
     "output_type": "stream",
     "text": [
      "49996\n"
     ]
    }
   ],
   "source": []
  },
  {
   "cell_type": "code",
   "execution_count": null,
   "metadata": {},
   "outputs": [],
   "source": [
    "c"
   ]
  },
  {
   "cell_type": "code",
   "execution_count": null,
   "metadata": {},
   "outputs": [],
   "source": []
  },
  {
   "cell_type": "code",
   "execution_count": null,
   "metadata": {},
   "outputs": [],
   "source": []
  },
  {
   "cell_type": "code",
   "execution_count": null,
   "metadata": {},
   "outputs": [],
   "source": []
  },
  {
   "cell_type": "code",
   "execution_count": null,
   "metadata": {},
   "outputs": [],
   "source": [
    "samples = []\n",
    "    count = 0\n",
    "    with open(filename, 'r', encoding='utf8') as file:\n",
    "        for line in file:\n",
    "            samples.append(line.strip())\n",
    "            if count == size:\n",
    "                break\n",
    "            count += 1\n",
    "    print(\"ok\")\n",
    "    return samples"
   ]
  },
  {
   "cell_type": "code",
   "execution_count": null,
   "metadata": {},
   "outputs": [],
   "source": []
  },
  {
   "cell_type": "code",
   "execution_count": null,
   "metadata": {},
   "outputs": [],
   "source": []
  },
  {
   "cell_type": "code",
   "execution_count": 50,
   "metadata": {},
   "outputs": [
    {
     "data": {
      "text/plain": [
       "'孕妇内衣纯棉无钢圈哺乳文胸集合防下垂哺乳文胸套装酒红色保健您的孕期和哺乳期，舒适的孕妇内衣，加宽的肩带，母乳喂养不怕，四排四扣，健康，睡眠哺乳套装，一秒钟哺乳，弹性包装，大问题，你有没有杯子的形状是圆的和光滑的，而且杯子的内部是靠近里面的。孕妇的内裤低腰无痕。图中的白色织物加宽了两侧，以防止出现四个洞。没有钢圈和零约束。无钢圈舒适。衬里是健康和皮肤友好的。3肩带加宽和双层交叉是根据怀孕和哺乳期的特殊图形曲线特点和设计，让怀孕的妈妈、棉料、宝宝喂奶、乳汁溢出，防止胸部倾斜打开设计，方便母乳喂养，02。侧面加宽，侧面加高，更舒适健康，可调设计，更舒适，四排四按钮，01。斜开式哺乳，无压迫，包胸，臀全包，斜开式哺乳，04。立体全罩杯，无钢圈/舒适健康，满足孕期及产后的需求，全臀围包裹，加宽底围，无钢圈，无压迫感，强张力，防滑落，舒适，灰色，佩戴更舒适，保护妈妈的安心，侧翼增加预防胸罩在胸外，容易应对胸部不同时期的变化，更好的回奶，方便喂奶，单手拉可以使人哭闹，容易调整，经久耐用，肤色，火烈鸟，哺乳期，酒红色，产品信息功能热点收集内衣开襟前扣式内衣L码内衣模杯厚薄型杯适合孕妇和躺卧妇女一般分类内衣面料纯棉内衣无插入式欧美式内衣L码内衣裤有无钢制支持原产地中国上市时间2018年春季内衣尺码80B适合季节、季节和季节一般材料纯棉腰带式低腰内衣开扣式内衣罩杯式3/4杯内衣扣式后背四排扣式内衣款式内裤内裤肩带式可拆卸双肩背带国产/进口国产流行元素3D腰围可调或可调杯衬棉品牌泰盈华适合年龄怀孕和哺乳图案纯色<SEP>棉质十字型非钢圈孕妇护理文胸，交叉收拢拉。怀孕使你保持完美的身材。产后交叉式单手哺乳，无需打开按钮。4排4扣，加宽后肩带，不易跑动。侧翼加宽以防止副乳腺扩张。'"
      ]
     },
     "execution_count": 50,
     "metadata": {},
     "output_type": "execute_result"
    }
   ],
   "source": [
    "back_translate(q)"
   ]
  },
  {
   "cell_type": "code",
   "execution_count": null,
   "metadata": {},
   "outputs": [],
   "source": []
  },
  {
   "cell_type": "code",
   "execution_count": null,
   "metadata": {},
   "outputs": [],
   "source": []
  },
  {
   "cell_type": "code",
   "execution_count": null,
   "metadata": {},
   "outputs": [],
   "source": []
  },
  {
   "cell_type": "code",
   "execution_count": null,
   "metadata": {},
   "outputs": [],
   "source": []
  },
  {
   "cell_type": "code",
   "execution_count": 10,
   "metadata": {},
   "outputs": [
    {
     "data": {
      "text/plain": [
       "(49996, 1137, 4730)"
      ]
     },
     "execution_count": 10,
     "metadata": {},
     "output_type": "execute_result"
    }
   ],
   "source": [
    "count,len_max, count_max"
   ]
  },
  {
   "cell_type": "code",
   "execution_count": null,
   "metadata": {},
   "outputs": [],
   "source": []
  },
  {
   "cell_type": "code",
   "execution_count": null,
   "metadata": {},
   "outputs": [],
   "source": []
  },
  {
   "cell_type": "code",
   "execution_count": 12,
   "metadata": {},
   "outputs": [],
   "source": [
    "q= \"\"\"孕妇 内衣 纯棉 哺乳 文胸 无 钢圈 聚拢 防 下垂 喂奶 胸罩 母乳 文胸 套装 酒 红色 健康 呵护 您 的 孕 哺期 ， 舒适 的 孕产 内衣 ， 加宽 肩带 ， 喂奶 不怕 ， 四排 四扣 ， 健康 、 ， 睡眠 哺乳 套装 ， 一秒 哺乳 ， 弹力 包裹 ， 了 大 问题 ， 您 是否 也 有 如此 困扰 ? ， 杯型 圆润 流畅 ， 罩杯 内里 ， 的 贴心 设计 ， 孕妇 内裤 低腰 无痕 ， 图中 白色 面料 ， 加宽 侧翼 ， 防 四片 豁 ， 无 钢圈 零 束缚 ， 舒适 无 钢圈 ， 舒适 里 料 健康 亲肤 ， 03 . 加宽 肩带 ， 双层 交叉 ， 根据 孕 哺期 特殊 的 身材 曲线 特征 而 设计 ， 让 孕妈 ， 棉 材质 ， 宝宝 喂奶 ， 奶水 溢出 ， 防止 胸外 ， 斜 开式 设计 方便 哺乳 ， 02 . 加宽 侧 ， 侧翼 加高 ， 更 舒适 健康 ， 调节 设计 ， 更加 舒适 ， 四排 四扣 可 ， 01 . 斜 开式 哺乳 ， 无 压迫 ， 包裹 胸部 ， 臀部 全包 ， 斜 开式 哺乳 ， 04 . 立体 全 罩杯 ， 无 钢圈 / 舒适 健康 ， 满足 全 孕期 及 产后 需求 ， 臀部 全 包裹 ， 加宽 底围 ， 无 钢圈 无 压迫 ， 拉力 强 ， 防止 下滑 ， 舒适 ， 灰色 ， 穿着 更 舒适 ， 给 妈妈 安心 的 保 ， 侧翼 加高 防止 胸部 外 ， 一件 文胸 轻松 应对 不同 时期 胸部 变化 ， 更好 回奶 ， 方便 喂奶 ， 单手 一拉 就 可 让 哭闹 ， 轻松 调节 持久 耐用 ， 肤色 ， 火烈鸟 ， 哺乳期 ， 酒红 ， 产品 信息功能热点 聚拢 内衣开扣 前开扣式 内裤尺码 L 内衣模杯厚度 薄模杯 适用阶段 孕产妇通用 分类 内衣 面料 纯棉 内衣插片 无插片 风格 欧美风范 内衣尺寸 L号 内衣有无钢托 无钢托 产地 中国 上市时间 2018春季 内衣尺码 80B 适合季节 四季 适用季节 四季通用 材质 纯棉 裤腰款式 低腰 内衣开扣方式 无开扣 内衣罩杯款式 3/4罩杯 内衣搭扣类型 后四排搭扣 内裤款式 三角裤 内衣肩带样式 可拆卸双肩带 国产/进口 国产 流行元素 3D款 腰围是否可调 可调 罩杯里料 棉 品牌 台英华 适用年龄 孕期、哺乳期 图案 纯色 <sep>全棉 交叉 式 无 钢圈 孕哺 文胸 ， 交叉 式 聚拢 提拉 。 孕期 让 你 保持 完美 胸型 。 产后 交叉 式 单手 哺乳 ， 无需 开扣 。 4 排 4 扣 ， 加宽 背部 肩带 ， 不勒身 ， 不易 跑 位 。 加宽 侧翼 ， 有效 防止 副 乳外 扩 。\n",
    "\"\"\""
   ]
  },
  {
   "cell_type": "code",
   "execution_count": null,
   "metadata": {},
   "outputs": [],
   "source": []
  },
  {
   "cell_type": "code",
   "execution_count": 13,
   "metadata": {},
   "outputs": [
    {
     "data": {
      "text/plain": [
       "'孕妇 内衣 纯棉 哺乳 文胸 无 钢圈 聚拢 防 下垂 喂奶 胸罩 母乳 文胸 套装 酒 红色 健康 呵护 您 的 孕 哺期 ， 舒适 的 孕产 内衣 ， 加宽 肩带 ， 喂奶 不怕 ， 四排 四扣 ， 健康 、 ， 睡眠 哺乳 套装 ， 一秒 哺乳 ， 弹力 包裹 ， 了 大 问题 ， 您 是否 也 有 如此 困扰 ? ， 杯型 圆润 流畅 ， 罩杯 内里 ， 的 贴心 设计 ， 孕妇 内裤 低腰 无痕 ， 图中 白色 面料 ， 加宽 侧翼 ， 防 四片 豁 ， 无 钢圈 零 束缚 ， 舒适 无 钢圈 ， 舒适 里 料 健康 亲肤 ， 03 . 加宽 肩带 ， 双层 交叉 ， 根据 孕 哺期 特殊 的 身材 曲线 特征 而 设计 ， 让 孕妈 ， 棉 材质 ， 宝宝 喂奶 ， 奶水 溢出 ， 防止 胸外 ， 斜 开式 设计 方便 哺乳 ， 02 . 加宽 侧 ， 侧翼 加高 ， 更 舒适 健康 ， 调节 设计 ， 更加 舒适 ， 四排 四扣 可 ， 01 . 斜 开式 哺乳 ， 无 压迫 ， 包裹 胸部 ， 臀部 全包 ， 斜 开式 哺乳 ， 04 . 立体 全 罩杯 ， 无 钢圈 / 舒适 健康 ， 满足 全 孕期 及 产后 需求 ， 臀部 全 包裹 ， 加宽 底围 ， 无 钢圈 无 压迫 ， 拉力 强 ， 防止 下滑 ， 舒适 ， 灰色 ， 穿着 更 舒适 ， 给 妈妈 安心 的 保 ， 侧翼 加高 防止 胸部 外 ， 一件 文胸 轻松 应对 不同 时期 胸部 变化 ， 更好 回奶 ， 方便 喂奶 ， 单手 一拉 就 可 让 哭闹 ， 轻松 调节 持久 耐用 ， 肤色 ， 火烈鸟 ， 哺乳期 ， 酒红 ， 产品 信息功能热点 聚拢 内衣开扣 前开扣式 内裤尺码 L 内衣模杯厚度 薄模杯 适用阶段 孕产妇通用 分类 内衣 面料 纯棉 内衣插片 无插片 风格 欧美风范 内衣尺寸 L号 内衣有无钢托 无钢托 产地 中国 上市时间 2018春季 内衣尺码 80B 适合季节 四季 适用季节 四季通用 材质 纯棉 裤腰款式 低腰 内衣开扣方式 无开扣 内衣罩杯款式 3/4罩杯 内衣搭扣类型 后四排搭扣 内裤款式 三角裤 内衣肩带样式 可拆卸双肩带 国产/进口 国产 流行元素 3D款 腰围是否可调 可调 罩杯里料 棉 品牌 台英华 适用年龄 孕期、哺乳期 图案 纯色 <sep>全棉 交叉 式 无 钢圈 孕哺 文胸 ， 交叉 式 聚拢 提拉 。 孕期 让 你 保持 完美 胸型 。 产后 交叉 式 单手 哺乳 ， 无需 开扣 。 4 排 4 扣 ， 加宽 背部 肩带 ， 不勒身 ， 不易 跑 位 。 加宽 侧翼 ， 有效 防止 副 乳外 扩 。\\n'"
      ]
     },
     "execution_count": 13,
     "metadata": {},
     "output_type": "execute_result"
    }
   ],
   "source": [
    "q"
   ]
  },
  {
   "cell_type": "code",
   "execution_count": 22,
   "metadata": {},
   "outputs": [
    {
     "data": {
      "text/plain": [
       "'孕妇内衣纯棉无钢圈哺乳文胸集合防下垂哺乳文胸套装酒红色保健您的孕期和哺乳期，舒适的孕妇内衣，加宽的肩带，母乳喂养不怕，四排四扣，健康，睡眠哺乳套装，一秒钟哺乳，弹性包装，大问题，你有没有杯子的形状是圆的和光滑的，而且杯子的内部是靠近里面的。孕妇的内裤低腰无痕。图中的白色织物加宽了两侧，以防止出现四个洞。没有钢圈和零约束。无钢圈舒适。衬里是健康和皮肤友好的。3肩带加宽和双层交叉是根据怀孕和哺乳期的特殊图形曲线特点和设计，让怀孕的妈妈、棉料、宝宝喂奶、乳汁溢出，防止胸部倾斜打开设计，方便母乳喂养，02。侧面加宽，侧面加高，更舒适健康，可调设计，更舒适，四排四按钮，01。斜开式哺乳，无压迫，包胸，臀全包，斜开式哺乳，04。立体全罩杯，无钢圈/舒适健康，满足孕期及产后的需求，全臀围包裹，加宽底围，无钢圈，无压迫感，强张力，防滑落，舒适，灰色，佩戴更舒适，保护妈妈的安心，侧翼增加预防胸罩在胸外，容易应对胸部不同时期的变化，更好的回奶，方便喂奶，单手拉可以使人哭闹，容易调整，经久耐用，肤色，火烈鸟，哺乳期，酒红色，产品信息功能热点收集内衣开襟前扣式内衣L码内衣模杯厚薄型杯适合孕妇和躺卧妇女一般分类内衣面料纯棉内衣无插入式欧美式内衣L码内衣裤有无钢制支持原产地中国上市时间2018年春季内衣尺码80B适合季节、季节和季节一般材料纯棉腰带式低腰内衣开扣式内衣罩杯式3/4杯内衣扣式后背四排扣式内衣款式内裤内裤肩带式可拆卸双肩背带国产/进口国产流行元素3D腰围可调或可调杯衬棉品牌泰盈华适合年龄怀孕和哺乳图案纯色<SEP>棉质十字型非钢圈孕妇护理文胸，交叉收拢拉。怀孕使你保持完美的身材。产后交叉式单手哺乳，无需打开按钮。4排4扣，加宽后肩带，不易跑动。侧翼加宽以防止副乳腺扩张。'"
      ]
     },
     "execution_count": 22,
     "metadata": {},
     "output_type": "execute_result"
    }
   ],
   "source": []
  },
  {
   "cell_type": "code",
   "execution_count": 18,
   "metadata": {},
   "outputs": [
    {
     "data": {
      "text/plain": [
       "{'error_code': '54003', 'error_msg': 'Invalid Access Limit'}"
      ]
     },
     "execution_count": 18,
     "metadata": {},
     "output_type": "execute_result"
    }
   ],
   "source": []
  },
  {
   "cell_type": "code",
   "execution_count": null,
   "metadata": {},
   "outputs": [],
   "source": []
  },
  {
   "cell_type": "code",
   "execution_count": 1,
   "metadata": {},
   "outputs": [],
   "source": [
    "#百度通用翻译API,不包含词典、tts语音合成等资源，如有相关需求请联系translate_api@baidu.com\n",
    "# coding=utf-8\n",
    "\n",
    "\n",
    "\n",
    "class Translator():\n",
    "    def __init__(self):\n",
    "        self.appid = '20200808000537685'  # 填写你的appid\n",
    "        self.secretKey = 'V1Z9oqVyyYLuNyvudPHG'  # 填写你的密钥\n",
    "\n",
    "        self.httpClient = None\n",
    "        self.myurl = '/api/trans/vip/translate'\n",
    "\n",
    "              \n",
    "\n",
    "    def translate(self, q, fromLang, toLang):\n",
    "        salt = random.randint(32768, 65536)\n",
    "        sign = self.appid + q + str(salt) + self.secretKey\n",
    "        sign = hashlib.md5(sign.encode()).hexdigest()\n",
    "        self.myurl = '/api/trans/vip/translate' + '?appid=' + self.appid + '&q=' + urllib.parse.quote(q) + '&from=' + fromLang + '&to=' + toLang + '&salt=' + str(\n",
    "        salt) + '&sign=' + sign\n",
    "\n",
    "        try:\n",
    "            self.httpClient = http.client.HTTPConnection('api.fanyi.baidu.com')\n",
    "            self.httpClient.request('GET', self.myurl)\n",
    "\n",
    "            # response是HTTPResponse对象\n",
    "            response = self.httpClient.getresponse()\n",
    "            result_all = response.read().decode(\"utf-8\")\n",
    "            result = json.loads(result_all)\n",
    "\n",
    "            return result\n",
    "\n",
    "        except Exception as e:\n",
    "            print (e)\n",
    "        finally:\n",
    "            if self.httpClient:\n",
    "                self.httpClient.close()\n",
    "            \n",
    "        "
   ]
  },
  {
   "cell_type": "code",
   "execution_count": null,
   "metadata": {},
   "outputs": [],
   "source": []
  },
  {
   "cell_type": "code",
   "execution_count": null,
   "metadata": {},
   "outputs": [],
   "source": []
  },
  {
   "cell_type": "code",
   "execution_count": 2,
   "metadata": {},
   "outputs": [],
   "source": [
    "translator = Translator()"
   ]
  },
  {
   "cell_type": "code",
   "execution_count": 15,
   "metadata": {},
   "outputs": [],
   "source": [
    "q= \"\"\"秋水伊人 毛 呢大衣 冬装 2019新款 女装 格纹 西装 领 亮线 休闲 口袋 外套 梅红 模特 展示 ， 平铺 展示 ， 复古 篇章 ， 产品 信息 ， 满大街 的 格纹 西装 ， 想 从 人群 中 脱颖而出 ， 就 PICK 它 啦 ， 黄色 和 白色 的 直线 ， 相交 平行 ， 黑色 的 ， 灰色 的 比比皆是 ， ， 1 聚苯 薄膜 纤维 ， 其实 会 比 修身 款 更 显瘦 一点 ， 撞色 白色 纽扣 ， 提亮 设计 ， 复古 格纹 ， 小小的 身材 被 包裹 住 ( 对比 效应 ) ， 凸显出 你 的 瘦小 啦 ! ， 弹性 : 无弹 ， 款 号 : ， 3 、 使用 中性 洗涤液 ， 颜色 : 梅红 ， o 呢子 西装 ， 版型 : 宽松 ， 厚度 : 适中 ， 吊牌 价 : ， 长度 : 中长款 ， 维护 方法 : ， 1658 元 ， 成分 含氧领型 高领 上市时间 2019年冬季 衣长 中长款 版型 宽松型 材质 仿呢料 适用年龄 25-29周岁 袖型 常规袖 厚度 常规 风格 韩版 图案 格子 流行元素 口袋 袖长 长袖 衣门襟 双排扣 <sep>摩登 格纹 复古 又 不失 优雅 品位 ， 举手投足 间 难 掩 女神 风采 。 oversized 款 宽肩 设计 修身 显瘦 ， 展现出 女生 小鸟依人 的 一面 。\n",
    "凯乐石 男女 连帽 三合一 冲锋衣 4 、 尽量 选用 中性 洗涤剂 ， 偶尔 干洗 能 彻底 清洁 服装 ， 但 需 提醒 干 ， 3 、 请勿 用 漂白剂 及 柔顺剂 ， 请勿 拧干 ， ， 冲锋衣 保养 方法 ， 使用 方 ， 涤 ， 手洗 用 软 毛刷 轻轻 刷洗 ， 不可 用 硬 毛刷 大力 刷洗 以免 刺透 薄 ， 2 . 避免 尖锐 的 东西 刮破 衣物 ， 造成 漏水 ， ， 登山 ， 骑行 ， 1 . 在 不同 的 环境 下 ， 选择 适合 的 冲锋衣 穿着 ， 膜 ， 不得 用力 搓揉 服装 以免 使 薄膜 与 保护层 脱离 ， 洗净 后 ， 在 衣 ， 6 、 低温 蒸汽 熨烫 也 会 达到 类似 烘干 的 效果 ， ， 1 、 冲锋衣 / 裤 被 穿脏 后 或 存放 前应 清洗 干净 ， 虽然 防水 透气 薄膜 ， 旅行 ， 可 调节 魔术 贴 袖口 ， 性会 大大降低 ， 垂直 晾干 ， 的 防水 透气性 不会 因此 而 受到 损伤 ， 但 整件 服装 的 透气性 和 舒 ， 舒适 保暖 抓绒 面料 ， 采用 结实 耐磨 面料 ， 同是 也 是 充绒 结合 连接点 ， 拉链 插手 储物袋 ， 防 泼水 防风 透气 面料 ， 外套 整体 内部 ， 徒步 ， 日常 ， 产品 指数 ， 两侧 拉链袋 ， 内胆 整体 内 ， 防 泼水 功能 ， 架 挂出 ， 自然 晾干 ， ， 只 为 攀登 ， 采用 结实 耐用 ， 8 、 转笼 翻转 干燥 ， ， 双门 襟 设计 ， 立领 设 ， 车 缝线 ， 阻挡 雨水尺码 S 适用场景 徒步 适用人群 男士 功能 防水 内胆类型 抓绒内胆 上市时间 2018年秋冬 面料科技 其它 类别 三合一 <sep>保暖 透气 的 男款 连帽 三合一 冲锋衣 ， 采用 高密度 的 耐磨 面料 ， 防水 防风 的 同时 又 保暖 舒适 。 魔术 贴 袖口 可 随意 调节 大小 ， 袖口 更 有 暗扣 无缝 连接 内胆 。 两侧 拉链 口袋 更好 的 保存 物品 ， 不易 丢失 。\n",
    "韩国 韩国 门店 专柜 男女 情侣 款 棒球 帽子 亚克力 闪亮 时髦 运动 风 洋基队 学生 户外 弯檐 鸭舌 遮阳帽 白帽 银边 调节 款 帽围 测量 方式 : ， 产品 信息 ， 颜色 展示 ， 颜色 ， 帽围 ， 适用 ， 位 帷 ， 头发 也 要 算在内 ) 建议 紧量 的 情 ， 黑色 / 蓝色 / 白色 ， 男女 适合 ， 黑色 款 ， 蓝色 款 ， 品牌 ， 后头 隆起 点 ， 前额 发根适用场景 旅行 流行元素 贴布 适用季节 春季 适用性别 通用 上市时间 往季 材质 聚对苯二甲酸乙二酯(涤纶) 图案 纯色 风格 优雅 <sep>MLB 字母 遮阳 棒球帽 ， 四个 颜色 设计 ， 满足 不同 穿 搭 喜好 ； 帽身 正面 撞色 字母 点缀 ， 凸显出 时尚 运动 风 ； 四周 设有 通风 透 气孔 ， 佩戴 更 舒适 。 帽檐 同色系 走线 ， 平整 利落 。\n",
    "\"\"\""
   ]
  },
  {
   "cell_type": "code",
   "execution_count": 6,
   "metadata": {},
   "outputs": [
    {
     "name": "stdout",
     "output_type": "stream",
     "text": [
      "[WinError 10054] 远程主机强迫关闭了一个现有的连接。\n"
     ]
    }
   ],
   "source": [
    "en_text = translator.translate(q, 'zh', 'en')"
   ]
  },
  {
   "cell_type": "code",
   "execution_count": null,
   "metadata": {},
   "outputs": [],
   "source": []
  },
  {
   "cell_type": "code",
   "execution_count": 61,
   "metadata": {},
   "outputs": [
    {
     "name": "stdout",
     "output_type": "stream",
     "text": [
      "[WinError 10054] 远程主机强迫关闭了一个现有的连接。\n"
     ]
    },
    {
     "ename": "TypeError",
     "evalue": "'NoneType' object is not subscriptable",
     "output_type": "error",
     "traceback": [
      "\u001b[1;31m---------------------------------------------------------------------------\u001b[0m",
      "\u001b[1;31mTypeError\u001b[0m                                 Traceback (most recent call last)",
      "\u001b[1;32m<ipython-input-61-7d241e5b5139>\u001b[0m in \u001b[0;36m<module>\u001b[1;34m\u001b[0m\n\u001b[0;32m      3\u001b[0m 韩国 韩国 门店 专柜 男女 情侣 款 棒球 帽子 亚克力 闪亮 时髦 运动 风 洋基队 学生 户外 弯檐 鸭舌 遮阳帽 白帽 银边 调节 款 帽围 测量 方式 : ， 产品 信息 ， 颜色 展示 ， 颜色 ， 帽围 ， 适用 ， 位 帷 ， 头发 也 要 算在内 ) 建议 紧量 的 情 ， 黑色 / 蓝色 / 白色 ， 男女 适合 ， 黑色 款 ， 蓝色 款 ， 品牌 ， 后头 隆起 点 ， 前额 发根适用场景 旅行 流行元素 贴布 适用季节 春季 适用性别 通用 上市时间 往季 材质 聚对苯二甲酸乙二酯(涤纶) 图案 纯色 风格 优雅 <sep>MLB 字母 遮阳 棒球帽 ， 四个 颜色 设计 ， 满足 不同 穿 搭 喜好 ； 帽身 正面 撞色 字母 点缀 ， 凸显出 时尚 运动 风 ； 四周 设有 通风 透 气孔 ， 佩戴 更 舒适 。 帽檐 同色系 走线 ， 平整 利落 。\n\u001b[0;32m      4\u001b[0m \"\"\"\n\u001b[1;32m----> 5\u001b[1;33m \u001b[0men_text\u001b[0m \u001b[1;33m=\u001b[0m \u001b[0mtranslator\u001b[0m\u001b[1;33m.\u001b[0m\u001b[0mtranslate\u001b[0m\u001b[1;33m(\u001b[0m\u001b[0mq\u001b[0m\u001b[1;33m,\u001b[0m \u001b[1;34m'zh'\u001b[0m\u001b[1;33m,\u001b[0m \u001b[1;34m'en'\u001b[0m\u001b[1;33m)\u001b[0m\u001b[1;33m[\u001b[0m\u001b[1;34m'trans_result'\u001b[0m\u001b[1;33m]\u001b[0m\u001b[1;33m[\u001b[0m\u001b[1;36m0\u001b[0m\u001b[1;33m]\u001b[0m\u001b[1;33m[\u001b[0m\u001b[1;34m'dst'\u001b[0m\u001b[1;33m]\u001b[0m\u001b[1;33m\u001b[0m\u001b[1;33m\u001b[0m\u001b[0m\n\u001b[0m\u001b[0;32m      6\u001b[0m \u001b[0mzh_text\u001b[0m \u001b[1;33m=\u001b[0m \u001b[0mtranslator\u001b[0m\u001b[1;33m.\u001b[0m\u001b[0mtranslate\u001b[0m\u001b[1;33m(\u001b[0m\u001b[0men_text\u001b[0m\u001b[1;33m,\u001b[0m \u001b[1;34m'en'\u001b[0m\u001b[1;33m,\u001b[0m \u001b[1;34m'zh'\u001b[0m\u001b[1;33m)\u001b[0m\u001b[1;33m[\u001b[0m\u001b[1;34m'trans_result'\u001b[0m\u001b[1;33m]\u001b[0m\u001b[1;33m[\u001b[0m\u001b[1;36m0\u001b[0m\u001b[1;33m]\u001b[0m\u001b[1;33m[\u001b[0m\u001b[1;34m'dst'\u001b[0m\u001b[1;33m]\u001b[0m\u001b[1;33m\u001b[0m\u001b[1;33m\u001b[0m\u001b[0m\n",
      "\u001b[1;31mTypeError\u001b[0m: 'NoneType' object is not subscriptable"
     ]
    }
   ],
   "source": [
    "q= \"\"\"秋水伊人 毛 呢大衣 冬装 2019新款 女装 格纹 西装 领 亮线 休闲 口袋 外套 梅红 模特 展示 ， 平铺 展示 ， 复古 篇章 ， 产品 信息 ， 满大街 的 格纹 西装 ， 想 从 人群 中 脱颖而出 ， 就 PICK 它 啦 ， 黄色 和 白色 的 直线 ， 相交 平行 ， 黑色 的 ， 灰色 的 比比皆是 ， ， 1 聚苯 薄膜 纤维 ， 其实 会 比 修身 款 更 显瘦 一点 ， 撞色 白色 纽扣 ， 提亮 设计 ， 复古 格纹 ， 小小的 身材 被 包裹 住 ( 对比 效应 ) ， 凸显出 你 的 瘦小 啦 ! ， 弹性 : 无弹 ， 款 号 : ， 3 、 使用 中性 洗涤液 ， 颜色 : 梅红 ， o 呢子 西装 ， 版型 : 宽松 ， 厚度 : 适中 ， 吊牌 价 : ， 长度 : 中长款 ， 维护 方法 : ， 1658 元 ， 成分 含氧领型 高领 上市时间 2019年冬季 衣长 中长款 版型 宽松型 材质 仿呢料 适用年龄 25-29周岁 袖型 常规袖 厚度 常规 风格 韩版 图案 格子 流行元素 口袋 袖长 长袖 衣门襟 双排扣 <sep>摩登 格纹 复古 又 不失 优雅 品位 ， 举手投足 间 难 掩 女神 风采 。 oversized 款 宽肩 设计 修身 显瘦 ， 展现出 女生 小鸟依人 的 一面 。\n",
    "凯乐石 男女 连帽 三合一 冲锋衣 4 、 尽量 选用 中性 洗涤剂 ， 偶尔 干洗 能 彻底 清洁 服装 ， 但 需 提醒 干 ， 3 、 请勿 用 漂白剂 及 柔顺剂 ， 请勿 拧干 ， ， 冲锋衣 保养 方法 ， 使用 方 ， 涤 ， 手洗 用 软 毛刷 轻轻 刷洗 ， 不可 用 硬 毛刷 大力 刷洗 以免 刺透 薄 ， 2 . 避免 尖锐 的 东西 刮破 衣物 ， 造成 漏水 ， ， 登山 ， 骑行 ， 1 . 在 不同 的 环境 下 ， 选择 适合 的 冲锋衣 穿着 ， 膜 ， 不得 用力 搓揉 服装 以免 使 薄膜 与 保护层 脱离 ， 洗净 后 ， 在 衣 ， 6 、 低温 蒸汽 熨烫 也 会 达到 类似 烘干 的 效果 ， ， 1 、 冲锋衣 / 裤 被 穿脏 后 或 存放 前应 清洗 干净 ， 虽然 防水 透气 薄膜 ， 旅行 ， 可 调节 魔术 贴 袖口 ， 性会 大大降低 ， 垂直 晾干 ， 的 防水 透气性 不会 因此 而 受到 损伤 ， 但 整件 服装 的 透气性 和 舒 ， 舒适 保暖 抓绒 面料 ， 采用 结实 耐磨 面料 ， 同是 也 是 充绒 结合 连接点 ， 拉链 插手 储物袋 ， 防 泼水 防风 透气 面料 ， 外套 整体 内部 ， 徒步 ， 日常 ， 产品 指数 ， 两侧 拉链袋 ， 内胆 整体 内 ， 防 泼水 功能 ， 架 挂出 ， 自然 晾干 ， ， 只 为 攀登 ， 采用 结实 耐用 ， 8 、 转笼 翻转 干燥 ， ， 双门 襟 设计 ， 立领 设 ， 车 缝线 ， 阻挡 雨水尺码 S 适用场景 徒步 适用人群 男士 功能 防水 内胆类型 抓绒内胆 上市时间 2018年秋冬 面料科技 其它 类别 三合一 <sep>保暖 透气 的 男款 连帽 三合一 冲锋衣 ， 采用 高密度 的 耐磨 面料 ， 防水 防风 的 同时 又 保暖 舒适 。 魔术 贴 袖口 可 随意 调节 大小 ， 袖口 更 有 暗扣 无缝 连接 内胆 。 两侧 拉链 口袋 更好 的 保存 物品 ， 不易 丢失 。\n",
    "韩国 韩国 门店 专柜 男女 情侣 款 棒球 帽子 亚克力 闪亮 时髦 运动 风 洋基队 学生 户外 弯檐 鸭舌 遮阳帽 白帽 银边 调节 款 帽围 测量 方式 : ， 产品 信息 ， 颜色 展示 ， 颜色 ， 帽围 ， 适用 ， 位 帷 ， 头发 也 要 算在内 ) 建议 紧量 的 情 ， 黑色 / 蓝色 / 白色 ， 男女 适合 ， 黑色 款 ， 蓝色 款 ， 品牌 ， 后头 隆起 点 ， 前额 发根适用场景 旅行 流行元素 贴布 适用季节 春季 适用性别 通用 上市时间 往季 材质 聚对苯二甲酸乙二酯(涤纶) 图案 纯色 风格 优雅 <sep>MLB 字母 遮阳 棒球帽 ， 四个 颜色 设计 ， 满足 不同 穿 搭 喜好 ； 帽身 正面 撞色 字母 点缀 ， 凸显出 时尚 运动 风 ； 四周 设有 通风 透 气孔 ， 佩戴 更 舒适 。 帽檐 同色系 走线 ， 平整 利落 。\n",
    "\"\"\"\n",
    "en_text = translator.translate(q, 'zh', 'en')['trans_result'][0]['dst']\n",
    "zh_text = translator.translate(en_text, 'en', 'zh')['trans_result'][0]['dst']"
   ]
  },
  {
   "cell_type": "code",
   "execution_count": null,
   "metadata": {},
   "outputs": [],
   "source": [
    "zh_text"
   ]
  },
  {
   "cell_type": "code",
   "execution_count": null,
   "metadata": {},
   "outputs": [],
   "source": []
  },
  {
   "cell_type": "code",
   "execution_count": null,
   "metadata": {},
   "outputs": [],
   "source": []
  },
  {
   "cell_type": "code",
   "execution_count": 53,
   "metadata": {},
   "outputs": [],
   "source": [
    "en_text = translator.translate(q, 'zh', 'en')['trans_result'][0]['dst']"
   ]
  },
  {
   "cell_type": "code",
   "execution_count": 50,
   "metadata": {},
   "outputs": [],
   "source": [
    "zh_text = translator.translate(en_text, 'en', 'zh')['trans_result'][0]['dst']"
   ]
  },
  {
   "cell_type": "code",
   "execution_count": null,
   "metadata": {},
   "outputs": [],
   "source": []
  },
  {
   "cell_type": "code",
   "execution_count": null,
   "metadata": {},
   "outputs": [],
   "source": []
  },
  {
   "cell_type": "code",
   "execution_count": null,
   "metadata": {},
   "outputs": [],
   "source": []
  },
  {
   "cell_type": "code",
   "execution_count": null,
   "metadata": {},
   "outputs": [],
   "source": []
  },
  {
   "cell_type": "code",
   "execution_count": null,
   "metadata": {},
   "outputs": [],
   "source": [
    "5,873         4,136"
   ]
  },
  {
   "cell_type": "code",
   "execution_count": 54,
   "metadata": {},
   "outputs": [
    {
     "data": {
      "text/plain": [
       "1815"
      ]
     },
     "execution_count": 54,
     "metadata": {},
     "output_type": "execute_result"
    }
   ],
   "source": [
    "7688 -5873  "
   ]
  },
  {
   "cell_type": "code",
   "execution_count": 48,
   "metadata": {},
   "outputs": [
    {
     "data": {
      "text/plain": [
       "579"
      ]
     },
     "execution_count": 48,
     "metadata": {},
     "output_type": "execute_result"
    }
   ],
   "source": [
    "len(q)"
   ]
  },
  {
   "cell_type": "code",
   "execution_count": 43,
   "metadata": {},
   "outputs": [
    {
     "data": {
      "text/plain": [
       "'秋水伊人 毛 呢大衣 冬装 2019新款 女装 格纹 西装 领 亮线 休闲 口袋 外套 梅红 模特 展示 ， 平铺 展示 ， 复古 篇章 ， 产品 信息 ， 满大街 的 格纹 西装 ， 想 从 人群 中 脱颖而出 ， 就 PICK 它 啦 ， 黄色 和 白色 的 直线 ， 相交 平行 ， 黑色 的 ， 灰色 的 比比皆是 ， ， 1 聚苯 薄膜 纤维 ， 其实 会 比 修身 款 更 显瘦 一点 ， 撞色 白色 纽扣 ， 提亮 设计 ， 复古 格纹 ， 小小的 身材 被 包裹 住 ( 对比 效应 ) ， 凸显出 你 的 瘦小 啦 ! ， 弹性 : 无弹 ， 款 号 : ， 3 、 使用 中性 洗涤液 ， 颜色 : 梅红 ， o 呢子 西装 ， 版型 : 宽松 ， 厚度 : 适中 ， 吊牌 价 : ， 长度 : 中长款 ， 维护 方法 : ， 1658 元 ， 成分 含氧领型 高领 上市时间 2019年冬季 衣长 中长款 版型 宽松型 材质 仿呢料 适用年龄 25-29周岁 袖型 常规袖 厚度 常规 风格 韩版 图案 格子 流行元素 口袋 袖长 长袖 衣门襟 双排扣 <sep>摩登 格纹 复古 又 不失 优雅 品位 ， 举手投足 间 难 掩 女神 风采 。 oversized 款 宽肩 设计 修身 显瘦 ， 展现出 女生 小鸟依人 的 一面 。'"
      ]
     },
     "execution_count": 43,
     "metadata": {},
     "output_type": "execute_result"
    }
   ],
   "source": [
    "q"
   ]
  },
  {
   "cell_type": "code",
   "execution_count": 44,
   "metadata": {},
   "outputs": [
    {
     "data": {
      "text/plain": [
       "\"Autumn water Yiren woolen coat winter wear 2019 new women's Plaid suit collar bright line casual pocket coat plum red model display, tile display, retro chapter, product information, check it if you want to stand out from the crowd, yellow and white straight lines intersect and parallel, black, gray Everywhere, 1 polyphenylene film fiber, in fact, will be a little thinner than the slim fit model, color contrast white buttons, bright design, retro check pattern, small body is wrapped (contrast effect), highlight your thin and small, elastic: inelastic, style No.: 3, use neutral detergent, color: Plum red, O woolen suit , version: loose, thickness: moderate, tag price: length: medium length, maintenance method: 1658 yuan, component oxygen collar high collar time to market in winter of 2019 length medium long version loose material imitation fabric suitable for 25-29 years old sleeve type regular sleeve thickness regular style Korean pattern check pop element pocket sleeve length long sleeve Double breasted < SEP > modern plaid pattern, with elegant taste and elegant taste, can not hide the goddess's style in every move. The oversized wide shoulder design is slim and slim, showing the girl's side of being a little bird.\""
      ]
     },
     "execution_count": 44,
     "metadata": {},
     "output_type": "execute_result"
    }
   ],
   "source": [
    "en_text"
   ]
  },
  {
   "cell_type": "code",
   "execution_count": 45,
   "metadata": {},
   "outputs": [
    {
     "data": {
      "text/plain": [
       "'秋水宜人羊毛外套冬装2019新款女式格子西装领口亮丽线条休闲口袋外套梅花红色模特展示，瓷砖展示，复古篇章，产品信息，看看你想从人群中脱颖而出，黄白色直线相交平行，黑色、灰色无处不在，1聚苯薄膜纤维，其实，会比修身版型稍薄，颜色对比白色纽扣，亮丽的设计，复古格子图案，小身段被包裹（对比效果），凸显你的瘦小，有弹性：无弹性，款式号：3，使用中性洗涤剂，颜色：梅花红，O羊毛套装，版本：宽松，厚度：适中，标签价格：长度：中长，保养方式：1658元，成分氧衣领高领2019年冬季上市长度中长版宽松材料仿面料适合25-29岁袖子类型常规袖厚度常规风格韩式图案格子口袋袖长长袖双排扣<SEP>现代格子图案，以高雅的品位和优雅的品位，掩饰不住女神的一举一动。超大宽肩设计修身修身，展现出女孩小小鸟的一面。'"
      ]
     },
     "execution_count": 45,
     "metadata": {},
     "output_type": "execute_result"
    }
   ],
   "source": [
    "zh_text"
   ]
  },
  {
   "cell_type": "code",
   "execution_count": null,
   "metadata": {},
   "outputs": [],
   "source": []
  },
  {
   "cell_type": "code",
   "execution_count": null,
   "metadata": {},
   "outputs": [],
   "source": []
  },
  {
   "cell_type": "code",
   "execution_count": null,
   "metadata": {},
   "outputs": [],
   "source": []
  },
  {
   "cell_type": "code",
   "execution_count": null,
   "metadata": {},
   "outputs": [],
   "source": []
  },
  {
   "cell_type": "code",
   "execution_count": 35,
   "metadata": {},
   "outputs": [
    {
     "data": {
      "text/plain": [
       "'20200808000537685'"
      ]
     },
     "execution_count": 35,
     "metadata": {},
     "output_type": "execute_result"
    }
   ],
   "source": [
    "translator.appid"
   ]
  },
  {
   "cell_type": "code",
   "execution_count": 36,
   "metadata": {},
   "outputs": [
    {
     "data": {
      "text/plain": [
       "<http.client.HTTPConnection at 0x2ba206303c8>"
      ]
     },
     "execution_count": 36,
     "metadata": {},
     "output_type": "execute_result"
    }
   ],
   "source": [
    "translator.httpClient"
   ]
  },
  {
   "cell_type": "code",
   "execution_count": 37,
   "metadata": {},
   "outputs": [
    {
     "data": {
      "text/plain": [
       "<http.client.HTTPConnection at 0x2ba206303c8>"
      ]
     },
     "execution_count": 37,
     "metadata": {},
     "output_type": "execute_result"
    }
   ],
   "source": [
    "translator.httpClient"
   ]
  },
  {
   "cell_type": "code",
   "execution_count": 38,
   "metadata": {},
   "outputs": [
    {
     "data": {
      "text/plain": [
       "'/api/trans/vip/translate?appid=20200808000537685&q=%E7%A7%8B%E6%B0%B4%E4%BC%8A%E4%BA%BA%20%E6%AF%9B%20%E5%91%A2%E5%A4%A7%E8%A1%A3%20%E5%86%AC%E8%A3%85%202019%E6%96%B0%E6%AC%BE%20%E5%A5%B3%E8%A3%85%20%E6%A0%BC%E7%BA%B9%20%E8%A5%BF%E8%A3%85%20%E9%A2%86%20%E4%BA%AE%E7%BA%BF%20%E4%BC%91%E9%97%B2%20%E5%8F%A3%E8%A2%8B%20%E5%A4%96%E5%A5%97%20%E6%A2%85%E7%BA%A2%20%E6%A8%A1%E7%89%B9%20%E5%B1%95%E7%A4%BA%20%EF%BC%8C%20%E5%B9%B3%E9%93%BA%20%E5%B1%95%E7%A4%BA%20%EF%BC%8C%20%E5%A4%8D%E5%8F%A4%20%E7%AF%87%E7%AB%A0%20%EF%BC%8C%20%E4%BA%A7%E5%93%81%20%E4%BF%A1%E6%81%AF%20%EF%BC%8C%20%E6%BB%A1%E5%A4%A7%E8%A1%97%20%E7%9A%84%20%E6%A0%BC%E7%BA%B9%20%E8%A5%BF%E8%A3%85%20%EF%BC%8C%20%E6%83%B3%20%E4%BB%8E%20%E4%BA%BA%E7%BE%A4%20%E4%B8%AD%20%E8%84%B1%E9%A2%96%E8%80%8C%E5%87%BA%20%EF%BC%8C%20%E5%B0%B1%20PICK%20%E5%AE%83%20%E5%95%A6%20%EF%BC%8C%20%E9%BB%84%E8%89%B2%20%E5%92%8C%20%E7%99%BD%E8%89%B2%20%E7%9A%84%20%E7%9B%B4%E7%BA%BF%20%EF%BC%8C%20%E7%9B%B8%E4%BA%A4%20%E5%B9%B3%E8%A1%8C%20%EF%BC%8C%20%E9%BB%91%E8%89%B2%20%E7%9A%84%20%EF%BC%8C%20%E7%81%B0%E8%89%B2%20%E7%9A%84%20%E6%AF%94%E6%AF%94%E7%9A%86%E6%98%AF%20%EF%BC%8C%20%EF%BC%8C%201%20%E8%81%9A%E8%8B%AF%20%E8%96%84%E8%86%9C%20%E7%BA%A4%E7%BB%B4%20%EF%BC%8C%20%E5%85%B6%E5%AE%9E%20%E4%BC%9A%20%E6%AF%94%20%E4%BF%AE%E8%BA%AB%20%E6%AC%BE%20%E6%9B%B4%20%E6%98%BE%E7%98%A6%20%E4%B8%80%E7%82%B9%20%EF%BC%8C%20%E6%92%9E%E8%89%B2%20%E7%99%BD%E8%89%B2%20%E7%BA%BD%E6%89%A3%20%EF%BC%8C%20%E6%8F%90%E4%BA%AE%20%E8%AE%BE%E8%AE%A1%20%EF%BC%8C%20%E5%A4%8D%E5%8F%A4%20%E6%A0%BC%E7%BA%B9%20%EF%BC%8C%20%E5%B0%8F%E5%B0%8F%E7%9A%84%20%E8%BA%AB%E6%9D%90%20%E8%A2%AB%20%E5%8C%85%E8%A3%B9%20%E4%BD%8F%20%28%20%E5%AF%B9%E6%AF%94%20%E6%95%88%E5%BA%94%20%29%20%EF%BC%8C%20%E5%87%B8%E6%98%BE%E5%87%BA%20%E4%BD%A0%20%E7%9A%84%20%E7%98%A6%E5%B0%8F%20%E5%95%A6%20%21%20%EF%BC%8C%20%E5%BC%B9%E6%80%A7%20%3A%20%E6%97%A0%E5%BC%B9%20%EF%BC%8C%20%E6%AC%BE%20%E5%8F%B7%20%3A%20%EF%BC%8C%203%20%E3%80%81%20%E4%BD%BF%E7%94%A8%20%E4%B8%AD%E6%80%A7%20%E6%B4%97%E6%B6%A4%E6%B6%B2%20%EF%BC%8C%20%E9%A2%9C%E8%89%B2%20%3A%20%E6%A2%85%E7%BA%A2%20%EF%BC%8C%20o%20%E5%91%A2%E5%AD%90%20%E8%A5%BF%E8%A3%85%20%EF%BC%8C%20%E7%89%88%E5%9E%8B%20%3A%20%E5%AE%BD%E6%9D%BE%20%EF%BC%8C%20%E5%8E%9A%E5%BA%A6%20%3A%20%E9%80%82%E4%B8%AD%20%EF%BC%8C%20%E5%90%8A%E7%89%8C%20%E4%BB%B7%20%3A%20%EF%BC%8C%20%E9%95%BF%E5%BA%A6%20%3A%20%E4%B8%AD%E9%95%BF%E6%AC%BE%20%EF%BC%8C%20%E7%BB%B4%E6%8A%A4%20%E6%96%B9%E6%B3%95%20%3A%20%EF%BC%8C%201658%20%E5%85%83%20%EF%BC%8C%20%E6%88%90%E5%88%86%20%E5%90%AB%E6%B0%A7%E9%A2%86%E5%9E%8B%20%E9%AB%98%E9%A2%86%20%E4%B8%8A%E5%B8%82%E6%97%B6%E9%97%B4%202019%E5%B9%B4%E5%86%AC%E5%AD%A3%20%E8%A1%A3%E9%95%BF%20%E4%B8%AD%E9%95%BF%E6%AC%BE%20%E7%89%88%E5%9E%8B%20%E5%AE%BD%E6%9D%BE%E5%9E%8B%20%E6%9D%90%E8%B4%A8%20%E4%BB%BF%E5%91%A2%E6%96%99%20%E9%80%82%E7%94%A8%E5%B9%B4%E9%BE%84%2025-29%E5%91%A8%E5%B2%81%20%E8%A2%96%E5%9E%8B%20%E5%B8%B8%E8%A7%84%E8%A2%96%20%E5%8E%9A%E5%BA%A6%20%E5%B8%B8%E8%A7%84%20%E9%A3%8E%E6%A0%BC%20%E9%9F%A9%E7%89%88%20%E5%9B%BE%E6%A1%88%20%E6%A0%BC%E5%AD%90%20%E6%B5%81%E8%A1%8C%E5%85%83%E7%B4%A0%20%E5%8F%A3%E8%A2%8B%20%E8%A2%96%E9%95%BF%20%E9%95%BF%E8%A2%96%20%E8%A1%A3%E9%97%A8%E8%A5%9F%20%E5%8F%8C%E6%8E%92%E6%89%A3%20%3Csep%3E%E6%91%A9%E7%99%BB%20%E6%A0%BC%E7%BA%B9%20%E5%A4%8D%E5%8F%A4%20%E5%8F%88%20%E4%B8%8D%E5%A4%B1%20%E4%BC%98%E9%9B%85%20%E5%93%81%E4%BD%8D%20%EF%BC%8C%20%E4%B8%BE%E6%89%8B%E6%8A%95%E8%B6%B3%20%E9%97%B4%20%E9%9A%BE%20%E6%8E%A9%20%E5%A5%B3%E7%A5%9E%20%E9%A3%8E%E9%87%87%20%E3%80%82%20oversized%20%E6%AC%BE%20%E5%AE%BD%E8%82%A9%20%E8%AE%BE%E8%AE%A1%20%E4%BF%AE%E8%BA%AB%20%E6%98%BE%E7%98%A6%20%EF%BC%8C%20%E5%B1%95%E7%8E%B0%E5%87%BA%20%E5%A5%B3%E7%94%9F%20%E5%B0%8F%E9%B8%9F%E4%BE%9D%E4%BA%BA%20%E7%9A%84%20%E4%B8%80%E9%9D%A2%20%E3%80%82&from=zh&to=en&salt=60830&sign=b9e752715c8fa602a140cadb1c0ffc80?appid=20200808000537685&q=%E7%A7%8B%E6%B0%B4%E4%BC%8A%E4%BA%BA%20%E6%AF%9B%20%E5%91%A2%E5%A4%A7%E8%A1%A3%20%E5%86%AC%E8%A3%85%202019%E6%96%B0%E6%AC%BE%20%E5%A5%B3%E8%A3%85%20%E6%A0%BC%E7%BA%B9%20%E8%A5%BF%E8%A3%85%20%E9%A2%86%20%E4%BA%AE%E7%BA%BF%20%E4%BC%91%E9%97%B2%20%E5%8F%A3%E8%A2%8B%20%E5%A4%96%E5%A5%97%20%E6%A2%85%E7%BA%A2%20%E6%A8%A1%E7%89%B9%20%E5%B1%95%E7%A4%BA%20%EF%BC%8C%20%E5%B9%B3%E9%93%BA%20%E5%B1%95%E7%A4%BA%20%EF%BC%8C%20%E5%A4%8D%E5%8F%A4%20%E7%AF%87%E7%AB%A0%20%EF%BC%8C%20%E4%BA%A7%E5%93%81%20%E4%BF%A1%E6%81%AF%20%EF%BC%8C%20%E6%BB%A1%E5%A4%A7%E8%A1%97%20%E7%9A%84%20%E6%A0%BC%E7%BA%B9%20%E8%A5%BF%E8%A3%85%20%EF%BC%8C%20%E6%83%B3%20%E4%BB%8E%20%E4%BA%BA%E7%BE%A4%20%E4%B8%AD%20%E8%84%B1%E9%A2%96%E8%80%8C%E5%87%BA%20%EF%BC%8C%20%E5%B0%B1%20PICK%20%E5%AE%83%20%E5%95%A6%20%EF%BC%8C%20%E9%BB%84%E8%89%B2%20%E5%92%8C%20%E7%99%BD%E8%89%B2%20%E7%9A%84%20%E7%9B%B4%E7%BA%BF%20%EF%BC%8C%20%E7%9B%B8%E4%BA%A4%20%E5%B9%B3%E8%A1%8C%20%EF%BC%8C%20%E9%BB%91%E8%89%B2%20%E7%9A%84%20%EF%BC%8C%20%E7%81%B0%E8%89%B2%20%E7%9A%84%20%E6%AF%94%E6%AF%94%E7%9A%86%E6%98%AF%20%EF%BC%8C%20%EF%BC%8C%201%20%E8%81%9A%E8%8B%AF%20%E8%96%84%E8%86%9C%20%E7%BA%A4%E7%BB%B4%20%EF%BC%8C%20%E5%85%B6%E5%AE%9E%20%E4%BC%9A%20%E6%AF%94%20%E4%BF%AE%E8%BA%AB%20%E6%AC%BE%20%E6%9B%B4%20%E6%98%BE%E7%98%A6%20%E4%B8%80%E7%82%B9%20%EF%BC%8C%20%E6%92%9E%E8%89%B2%20%E7%99%BD%E8%89%B2%20%E7%BA%BD%E6%89%A3%20%EF%BC%8C%20%E6%8F%90%E4%BA%AE%20%E8%AE%BE%E8%AE%A1%20%EF%BC%8C%20%E5%A4%8D%E5%8F%A4%20%E6%A0%BC%E7%BA%B9%20%EF%BC%8C%20%E5%B0%8F%E5%B0%8F%E7%9A%84%20%E8%BA%AB%E6%9D%90%20%E8%A2%AB%20%E5%8C%85%E8%A3%B9%20%E4%BD%8F%20%28%20%E5%AF%B9%E6%AF%94%20%E6%95%88%E5%BA%94%20%29%20%EF%BC%8C%20%E5%87%B8%E6%98%BE%E5%87%BA%20%E4%BD%A0%20%E7%9A%84%20%E7%98%A6%E5%B0%8F%20%E5%95%A6%20%21%20%EF%BC%8C%20%E5%BC%B9%E6%80%A7%20%3A%20%E6%97%A0%E5%BC%B9%20%EF%BC%8C%20%E6%AC%BE%20%E5%8F%B7%20%3A%20%EF%BC%8C%203%20%E3%80%81%20%E4%BD%BF%E7%94%A8%20%E4%B8%AD%E6%80%A7%20%E6%B4%97%E6%B6%A4%E6%B6%B2%20%EF%BC%8C%20%E9%A2%9C%E8%89%B2%20%3A%20%E6%A2%85%E7%BA%A2%20%EF%BC%8C%20o%20%E5%91%A2%E5%AD%90%20%E8%A5%BF%E8%A3%85%20%EF%BC%8C%20%E7%89%88%E5%9E%8B%20%3A%20%E5%AE%BD%E6%9D%BE%20%EF%BC%8C%20%E5%8E%9A%E5%BA%A6%20%3A%20%E9%80%82%E4%B8%AD%20%EF%BC%8C%20%E5%90%8A%E7%89%8C%20%E4%BB%B7%20%3A%20%EF%BC%8C%20%E9%95%BF%E5%BA%A6%20%3A%20%E4%B8%AD%E9%95%BF%E6%AC%BE%20%EF%BC%8C%20%E7%BB%B4%E6%8A%A4%20%E6%96%B9%E6%B3%95%20%3A%20%EF%BC%8C%201658%20%E5%85%83%20%EF%BC%8C%20%E6%88%90%E5%88%86%20%E5%90%AB%E6%B0%A7%E9%A2%86%E5%9E%8B%20%E9%AB%98%E9%A2%86%20%E4%B8%8A%E5%B8%82%E6%97%B6%E9%97%B4%202019%E5%B9%B4%E5%86%AC%E5%AD%A3%20%E8%A1%A3%E9%95%BF%20%E4%B8%AD%E9%95%BF%E6%AC%BE%20%E7%89%88%E5%9E%8B%20%E5%AE%BD%E6%9D%BE%E5%9E%8B%20%E6%9D%90%E8%B4%A8%20%E4%BB%BF%E5%91%A2%E6%96%99%20%E9%80%82%E7%94%A8%E5%B9%B4%E9%BE%84%2025-29%E5%91%A8%E5%B2%81%20%E8%A2%96%E5%9E%8B%20%E5%B8%B8%E8%A7%84%E8%A2%96%20%E5%8E%9A%E5%BA%A6%20%E5%B8%B8%E8%A7%84%20%E9%A3%8E%E6%A0%BC%20%E9%9F%A9%E7%89%88%20%E5%9B%BE%E6%A1%88%20%E6%A0%BC%E5%AD%90%20%E6%B5%81%E8%A1%8C%E5%85%83%E7%B4%A0%20%E5%8F%A3%E8%A2%8B%20%E8%A2%96%E9%95%BF%20%E9%95%BF%E8%A2%96%20%E8%A1%A3%E9%97%A8%E8%A5%9F%20%E5%8F%8C%E6%8E%92%E6%89%A3%20%3Csep%3E%E6%91%A9%E7%99%BB%20%E6%A0%BC%E7%BA%B9%20%E5%A4%8D%E5%8F%A4%20%E5%8F%88%20%E4%B8%8D%E5%A4%B1%20%E4%BC%98%E9%9B%85%20%E5%93%81%E4%BD%8D%20%EF%BC%8C%20%E4%B8%BE%E6%89%8B%E6%8A%95%E8%B6%B3%20%E9%97%B4%20%E9%9A%BE%20%E6%8E%A9%20%E5%A5%B3%E7%A5%9E%20%E9%A3%8E%E9%87%87%20%E3%80%82%20oversized%20%E6%AC%BE%20%E5%AE%BD%E8%82%A9%20%E8%AE%BE%E8%AE%A1%20%E4%BF%AE%E8%BA%AB%20%E6%98%BE%E7%98%A6%20%EF%BC%8C%20%E5%B1%95%E7%8E%B0%E5%87%BA%20%E5%A5%B3%E7%94%9F%20%E5%B0%8F%E9%B8%9F%E4%BE%9D%E4%BA%BA%20%E7%9A%84%20%E4%B8%80%E9%9D%A2%20%E3%80%82&from=zh&to=en&salt=58710&sign=3233ca2093e272e6fec8584086c4778f?appid=20200808000537685&q=Autumn%20water%20Yiren%20woolen%20coat%20winter%20wear%202019%20new%20women%27s%20Plaid%20suit%20collar%20bright%20line%20casual%20pocket%20coat%20plum%20red%20model%20display%2C%20tile%20display%2C%20retro%20chapter%2C%20product%20information%2C%20check%20it%20if%20you%20want%20to%20stand%20out%20from%20the%20crowd%2C%20yellow%20and%20white%20straight%20lines%20intersect%20and%20parallel%2C%20black%2C%20gray%20Everywhere%2C%201%20polyphenylene%20film%20fiber%2C%20in%20fact%2C%20will%20be%20a%20little%20thinner%20than%20the%20slim%20fit%20model%2C%20color%20contrast%20white%20buttons%2C%20bright%20design%2C%20retro%20check%20pattern%2C%20small%20body%20is%20wrapped%20%28contrast%20effect%29%2C%20highlight%20your%20thin%20and%20small%2C%20elastic%3A%20inelastic%2C%20style%20No.%3A%203%2C%20use%20neutral%20detergent%2C%20color%3A%20Plum%20red%2C%20O%20woolen%20suit%20%2C%20version%3A%20loose%2C%20thickness%3A%20moderate%2C%20tag%20price%3A%20length%3A%20medium%20length%2C%20maintenance%20method%3A%201658%20yuan%2C%20component%20oxygen%20collar%20high%20collar%20time%20to%20market%20in%20winter%20of%202019%20length%20medium%20long%20version%20loose%20material%20imitation%20fabric%20suitable%20for%2025-29%20years%20old%20sleeve%20type%20regular%20sleeve%20thickness%20regular%20style%20Korean%20pattern%20check%20pop%20element%20pocket%20sleeve%20length%20long%20sleeve%20Double%20breasted%20%3C%20SEP%20%3E%20modern%20plaid%20pattern%2C%20with%20elegant%20taste%20and%20elegant%20taste%2C%20can%20not%20hide%20the%20goddess%27s%20style%20in%20every%20move.%20The%20oversized%20wide%20shoulder%20design%20is%20slim%20and%20slim%2C%20showing%20the%20girl%27s%20side%20of%20being%20a%20little%20bird.&from=en&to=zh&salt=43287&sign=1bb65f2f97ebe712f41988d434f7eddc?appid=20200808000537685&q=%E7%A7%8B%E6%B0%B4%E4%BC%8A%E4%BA%BA%20%E6%AF%9B%20%E5%91%A2%E5%A4%A7%E8%A1%A3%20%E5%86%AC%E8%A3%85%202019%E6%96%B0%E6%AC%BE%20%E5%A5%B3%E8%A3%85%20%E6%A0%BC%E7%BA%B9%20%E8%A5%BF%E8%A3%85%20%E9%A2%86%20%E4%BA%AE%E7%BA%BF%20%E4%BC%91%E9%97%B2%20%E5%8F%A3%E8%A2%8B%20%E5%A4%96%E5%A5%97%20%E6%A2%85%E7%BA%A2%20%E6%A8%A1%E7%89%B9%20%E5%B1%95%E7%A4%BA%20%EF%BC%8C%20%E5%B9%B3%E9%93%BA%20%E5%B1%95%E7%A4%BA%20%EF%BC%8C%20%E5%A4%8D%E5%8F%A4%20%E7%AF%87%E7%AB%A0%20%EF%BC%8C%20%E4%BA%A7%E5%93%81%20%E4%BF%A1%E6%81%AF%20%EF%BC%8C%20%E6%BB%A1%E5%A4%A7%E8%A1%97%20%E7%9A%84%20%E6%A0%BC%E7%BA%B9%20%E8%A5%BF%E8%A3%85%20%EF%BC%8C%20%E6%83%B3%20%E4%BB%8E%20%E4%BA%BA%E7%BE%A4%20%E4%B8%AD%20%E8%84%B1%E9%A2%96%E8%80%8C%E5%87%BA%20%EF%BC%8C%20%E5%B0%B1%20PICK%20%E5%AE%83%20%E5%95%A6%20%EF%BC%8C%20%E9%BB%84%E8%89%B2%20%E5%92%8C%20%E7%99%BD%E8%89%B2%20%E7%9A%84%20%E7%9B%B4%E7%BA%BF%20%EF%BC%8C%20%E7%9B%B8%E4%BA%A4%20%E5%B9%B3%E8%A1%8C%20%EF%BC%8C%20%E9%BB%91%E8%89%B2%20%E7%9A%84%20%EF%BC%8C%20%E7%81%B0%E8%89%B2%20%E7%9A%84%20%E6%AF%94%E6%AF%94%E7%9A%86%E6%98%AF%20%EF%BC%8C%20%EF%BC%8C%201%20%E8%81%9A%E8%8B%AF%20%E8%96%84%E8%86%9C%20%E7%BA%A4%E7%BB%B4%20%EF%BC%8C%20%E5%85%B6%E5%AE%9E%20%E4%BC%9A%20%E6%AF%94%20%E4%BF%AE%E8%BA%AB%20%E6%AC%BE%20%E6%9B%B4%20%E6%98%BE%E7%98%A6%20%E4%B8%80%E7%82%B9%20%EF%BC%8C%20%E6%92%9E%E8%89%B2%20%E7%99%BD%E8%89%B2%20%E7%BA%BD%E6%89%A3%20%EF%BC%8C%20%E6%8F%90%E4%BA%AE%20%E8%AE%BE%E8%AE%A1%20%EF%BC%8C%20%E5%A4%8D%E5%8F%A4%20%E6%A0%BC%E7%BA%B9%20%EF%BC%8C%20%E5%B0%8F%E5%B0%8F%E7%9A%84%20%E8%BA%AB%E6%9D%90%20%E8%A2%AB%20%E5%8C%85%E8%A3%B9%20%E4%BD%8F%20%28%20%E5%AF%B9%E6%AF%94%20%E6%95%88%E5%BA%94%20%29%20%EF%BC%8C%20%E5%87%B8%E6%98%BE%E5%87%BA%20%E4%BD%A0%20%E7%9A%84%20%E7%98%A6%E5%B0%8F%20%E5%95%A6%20%21%20%EF%BC%8C%20%E5%BC%B9%E6%80%A7%20%3A%20%E6%97%A0%E5%BC%B9%20%EF%BC%8C%20%E6%AC%BE%20%E5%8F%B7%20%3A%20%EF%BC%8C%203%20%E3%80%81%20%E4%BD%BF%E7%94%A8%20%E4%B8%AD%E6%80%A7%20%E6%B4%97%E6%B6%A4%E6%B6%B2%20%EF%BC%8C%20%E9%A2%9C%E8%89%B2%20%3A%20%E6%A2%85%E7%BA%A2%20%EF%BC%8C%20o%20%E5%91%A2%E5%AD%90%20%E8%A5%BF%E8%A3%85%20%EF%BC%8C%20%E7%89%88%E5%9E%8B%20%3A%20%E5%AE%BD%E6%9D%BE%20%EF%BC%8C%20%E5%8E%9A%E5%BA%A6%20%3A%20%E9%80%82%E4%B8%AD%20%EF%BC%8C%20%E5%90%8A%E7%89%8C%20%E4%BB%B7%20%3A%20%EF%BC%8C%20%E9%95%BF%E5%BA%A6%20%3A%20%E4%B8%AD%E9%95%BF%E6%AC%BE%20%EF%BC%8C%20%E7%BB%B4%E6%8A%A4%20%E6%96%B9%E6%B3%95%20%3A%20%EF%BC%8C%201658%20%E5%85%83%20%EF%BC%8C%20%E6%88%90%E5%88%86%20%E5%90%AB%E6%B0%A7%E9%A2%86%E5%9E%8B%20%E9%AB%98%E9%A2%86%20%E4%B8%8A%E5%B8%82%E6%97%B6%E9%97%B4%202019%E5%B9%B4%E5%86%AC%E5%AD%A3%20%E8%A1%A3%E9%95%BF%20%E4%B8%AD%E9%95%BF%E6%AC%BE%20%E7%89%88%E5%9E%8B%20%E5%AE%BD%E6%9D%BE%E5%9E%8B%20%E6%9D%90%E8%B4%A8%20%E4%BB%BF%E5%91%A2%E6%96%99%20%E9%80%82%E7%94%A8%E5%B9%B4%E9%BE%84%2025-29%E5%91%A8%E5%B2%81%20%E8%A2%96%E5%9E%8B%20%E5%B8%B8%E8%A7%84%E8%A2%96%20%E5%8E%9A%E5%BA%A6%20%E5%B8%B8%E8%A7%84%20%E9%A3%8E%E6%A0%BC%20%E9%9F%A9%E7%89%88%20%E5%9B%BE%E6%A1%88%20%E6%A0%BC%E5%AD%90%20%E6%B5%81%E8%A1%8C%E5%85%83%E7%B4%A0%20%E5%8F%A3%E8%A2%8B%20%E8%A2%96%E9%95%BF%20%E9%95%BF%E8%A2%96%20%E8%A1%A3%E9%97%A8%E8%A5%9F%20%E5%8F%8C%E6%8E%92%E6%89%A3%20%3Csep%3E%E6%91%A9%E7%99%BB%20%E6%A0%BC%E7%BA%B9%20%E5%A4%8D%E5%8F%A4%20%E5%8F%88%20%E4%B8%8D%E5%A4%B1%20%E4%BC%98%E9%9B%85%20%E5%93%81%E4%BD%8D%20%EF%BC%8C%20%E4%B8%BE%E6%89%8B%E6%8A%95%E8%B6%B3%20%E9%97%B4%20%E9%9A%BE%20%E6%8E%A9%20%E5%A5%B3%E7%A5%9E%20%E9%A3%8E%E9%87%87%20%E3%80%82%20oversized%20%E6%AC%BE%20%E5%AE%BD%E8%82%A9%20%E8%AE%BE%E8%AE%A1%20%E4%BF%AE%E8%BA%AB%20%E6%98%BE%E7%98%A6%20%EF%BC%8C%20%E5%B1%95%E7%8E%B0%E5%87%BA%20%E5%A5%B3%E7%94%9F%20%E5%B0%8F%E9%B8%9F%E4%BE%9D%E4%BA%BA%20%E7%9A%84%20%E4%B8%80%E9%9D%A2%20%E3%80%82&from=zh&to=en&salt=53308&sign=c9cf12f77726da54727713d85da84978?appid=20200808000537685&q=Autumn%20water%20Yiren%20woolen%20coat%20winter%20wear%202019%20new%20women%27s%20Plaid%20suit%20collar%20bright%20line%20casual%20pocket%20coat%20plum%20red%20model%20display%2C%20tile%20display%2C%20retro%20chapter%2C%20product%20information%2C%20check%20it%20if%20you%20want%20to%20stand%20out%20from%20the%20crowd%2C%20yellow%20and%20white%20straight%20lines%20intersect%20and%20parallel%2C%20black%2C%20gray%20Everywhere%2C%201%20polyphenylene%20film%20fiber%2C%20in%20fact%2C%20will%20be%20a%20little%20thinner%20than%20the%20slim%20fit%20model%2C%20color%20contrast%20white%20buttons%2C%20bright%20design%2C%20retro%20check%20pattern%2C%20small%20body%20is%20wrapped%20%28contrast%20effect%29%2C%20highlight%20your%20thin%20and%20small%2C%20elastic%3A%20inelastic%2C%20style%20No.%3A%203%2C%20use%20neutral%20detergent%2C%20color%3A%20Plum%20red%2C%20O%20woolen%20suit%20%2C%20version%3A%20loose%2C%20thickness%3A%20moderate%2C%20tag%20price%3A%20length%3A%20medium%20length%2C%20maintenance%20method%3A%201658%20yuan%2C%20component%20oxygen%20collar%20high%20collar%20time%20to%20market%20in%20winter%20of%202019%20length%20medium%20long%20version%20loose%20material%20imitation%20fabric%20suitable%20for%2025-29%20years%20old%20sleeve%20type%20regular%20sleeve%20thickness%20regular%20style%20Korean%20pattern%20check%20pop%20element%20pocket%20sleeve%20length%20long%20sleeve%20Double%20breasted%20%3C%20SEP%20%3E%20modern%20plaid%20pattern%2C%20with%20elegant%20taste%20and%20elegant%20taste%2C%20can%20not%20hide%20the%20goddess%27s%20style%20in%20every%20move.%20The%20oversized%20wide%20shoulder%20design%20is%20slim%20and%20slim%2C%20showing%20the%20girl%27s%20side%20of%20being%20a%20little%20bird.&from=en&to=zh&salt=36208&sign=96c0bc4a1f7bb685813034b87264be88'"
      ]
     },
     "execution_count": 38,
     "metadata": {},
     "output_type": "execute_result"
    }
   ],
   "source": [
    "translator.myurl"
   ]
  },
  {
   "cell_type": "code",
   "execution_count": 32,
   "metadata": {},
   "outputs": [
    {
     "ename": "TypeError",
     "evalue": "'Translate' object is not callable",
     "output_type": "error",
     "traceback": [
      "\u001b[1;31m---------------------------------------------------------------------------\u001b[0m",
      "\u001b[1;31mTypeError\u001b[0m                                 Traceback (most recent call last)",
      "\u001b[1;32m<ipython-input-32-91d6fdae976b>\u001b[0m in \u001b[0;36m<module>\u001b[1;34m\u001b[0m\n\u001b[1;32m----> 1\u001b[1;33m \u001b[0mtranslate\u001b[0m\u001b[1;33m(\u001b[0m\u001b[0men_text\u001b[0m\u001b[1;33m,\u001b[0m \u001b[1;34m'en'\u001b[0m\u001b[1;33m,\u001b[0m \u001b[1;34m'zh'\u001b[0m\u001b[1;33m)\u001b[0m\u001b[1;33m\u001b[0m\u001b[1;33m\u001b[0m\u001b[0m\n\u001b[0m",
      "\u001b[1;31mTypeError\u001b[0m: 'Translate' object is not callable"
     ]
    }
   ],
   "source": [
    "translate(en_text, 'en', 'zh')"
   ]
  },
  {
   "cell_type": "code",
   "execution_count": 33,
   "metadata": {},
   "outputs": [
    {
     "name": "stdout",
     "output_type": "stream",
     "text": [
      "Expecting value: line 1 column 1 (char 0)\n"
     ]
    },
    {
     "ename": "TypeError",
     "evalue": "'NoneType' object is not subscriptable",
     "output_type": "error",
     "traceback": [
      "\u001b[1;31m---------------------------------------------------------------------------\u001b[0m",
      "\u001b[1;31mTypeError\u001b[0m                                 Traceback (most recent call last)",
      "\u001b[1;32m<ipython-input-33-a343320daf6a>\u001b[0m in \u001b[0;36m<module>\u001b[1;34m\u001b[0m\n\u001b[1;32m----> 1\u001b[1;33m \u001b[0mtranslator\u001b[0m\u001b[1;33m.\u001b[0m\u001b[0mtranslate\u001b[0m\u001b[1;33m(\u001b[0m\u001b[0mq\u001b[0m\u001b[1;33m,\u001b[0m \u001b[1;34m'zh'\u001b[0m\u001b[1;33m,\u001b[0m \u001b[1;34m'en'\u001b[0m\u001b[1;33m)\u001b[0m\u001b[1;33m[\u001b[0m\u001b[1;34m'trans_result'\u001b[0m\u001b[1;33m]\u001b[0m\u001b[1;33m[\u001b[0m\u001b[1;36m0\u001b[0m\u001b[1;33m]\u001b[0m\u001b[1;33m[\u001b[0m\u001b[1;34m'dst'\u001b[0m\u001b[1;33m]\u001b[0m\u001b[1;33m\u001b[0m\u001b[1;33m\u001b[0m\u001b[0m\n\u001b[0m",
      "\u001b[1;31mTypeError\u001b[0m: 'NoneType' object is not subscriptable"
     ]
    }
   ],
   "source": [
    "translator.translate(q, 'zh', 'en')['trans_result'][0]['dst']"
   ]
  },
  {
   "cell_type": "code",
   "execution_count": 34,
   "metadata": {},
   "outputs": [
    {
     "name": "stdout",
     "output_type": "stream",
     "text": [
      "Expecting value: line 1 column 1 (char 0)\n"
     ]
    },
    {
     "ename": "TypeError",
     "evalue": "'NoneType' object is not subscriptable",
     "output_type": "error",
     "traceback": [
      "\u001b[1;31m---------------------------------------------------------------------------\u001b[0m",
      "\u001b[1;31mTypeError\u001b[0m                                 Traceback (most recent call last)",
      "\u001b[1;32m<ipython-input-34-766cb415400b>\u001b[0m in \u001b[0;36m<module>\u001b[1;34m\u001b[0m\n\u001b[1;32m----> 1\u001b[1;33m \u001b[0mtranslator\u001b[0m\u001b[1;33m.\u001b[0m\u001b[0mtranslate\u001b[0m\u001b[1;33m(\u001b[0m\u001b[0men_text\u001b[0m\u001b[1;33m,\u001b[0m \u001b[1;34m'en'\u001b[0m\u001b[1;33m,\u001b[0m \u001b[1;34m'zh'\u001b[0m\u001b[1;33m)\u001b[0m\u001b[1;33m[\u001b[0m\u001b[1;34m'trans_result'\u001b[0m\u001b[1;33m]\u001b[0m\u001b[1;33m[\u001b[0m\u001b[1;36m0\u001b[0m\u001b[1;33m]\u001b[0m\u001b[1;33m[\u001b[0m\u001b[1;34m'dst'\u001b[0m\u001b[1;33m]\u001b[0m\u001b[1;33m\u001b[0m\u001b[1;33m\u001b[0m\u001b[0m\n\u001b[0m",
      "\u001b[1;31mTypeError\u001b[0m: 'NoneType' object is not subscriptable"
     ]
    }
   ],
   "source": [
    "translator.translate(en_text, 'en', 'zh')['trans_result'][0]['dst']\n"
   ]
  },
  {
   "cell_type": "code",
   "execution_count": 31,
   "metadata": {},
   "outputs": [
    {
     "name": "stdout",
     "output_type": "stream",
     "text": [
      "Expecting value: line 1 column 1 (char 0)\n"
     ]
    },
    {
     "ename": "TypeError",
     "evalue": "'NoneType' object is not subscriptable",
     "output_type": "error",
     "traceback": [
      "\u001b[1;31m---------------------------------------------------------------------------\u001b[0m",
      "\u001b[1;31mTypeError\u001b[0m                                 Traceback (most recent call last)",
      "\u001b[1;32m<ipython-input-31-9cd77df02b3a>\u001b[0m in \u001b[0;36m<module>\u001b[1;34m\u001b[0m\n\u001b[0;32m      2\u001b[0m \u001b[1;33m\u001b[0m\u001b[0m\n\u001b[0;32m      3\u001b[0m \u001b[0men_text\u001b[0m \u001b[1;33m=\u001b[0m \u001b[0mtranslator\u001b[0m\u001b[1;33m.\u001b[0m\u001b[0mtranslate\u001b[0m\u001b[1;33m(\u001b[0m\u001b[0mq\u001b[0m\u001b[1;33m,\u001b[0m \u001b[1;34m'zh'\u001b[0m\u001b[1;33m,\u001b[0m \u001b[1;34m'en'\u001b[0m\u001b[1;33m)\u001b[0m\u001b[1;33m[\u001b[0m\u001b[1;34m'trans_result'\u001b[0m\u001b[1;33m]\u001b[0m\u001b[1;33m[\u001b[0m\u001b[1;36m0\u001b[0m\u001b[1;33m]\u001b[0m\u001b[1;33m[\u001b[0m\u001b[1;34m'dst'\u001b[0m\u001b[1;33m]\u001b[0m\u001b[1;33m\u001b[0m\u001b[1;33m\u001b[0m\u001b[0m\n\u001b[1;32m----> 4\u001b[1;33m \u001b[0mzh_text\u001b[0m \u001b[1;33m=\u001b[0m \u001b[0mtranslator\u001b[0m\u001b[1;33m.\u001b[0m\u001b[0mtranslate\u001b[0m\u001b[1;33m(\u001b[0m\u001b[0men_text\u001b[0m\u001b[1;33m,\u001b[0m \u001b[1;34m'en'\u001b[0m\u001b[1;33m,\u001b[0m \u001b[1;34m'zh'\u001b[0m\u001b[1;33m)\u001b[0m\u001b[1;33m[\u001b[0m\u001b[1;34m'trans_result'\u001b[0m\u001b[1;33m]\u001b[0m\u001b[1;33m[\u001b[0m\u001b[1;36m0\u001b[0m\u001b[1;33m]\u001b[0m\u001b[1;33m[\u001b[0m\u001b[1;34m'dst'\u001b[0m\u001b[1;33m]\u001b[0m\u001b[1;33m\u001b[0m\u001b[1;33m\u001b[0m\u001b[0m\n\u001b[0m",
      "\u001b[1;31mTypeError\u001b[0m: 'NoneType' object is not subscriptable"
     ]
    }
   ],
   "source": [
    "\n",
    "\n"
   ]
  },
  {
   "cell_type": "code",
   "execution_count": 19,
   "metadata": {},
   "outputs": [
    {
     "data": {
      "text/plain": [
       "\"Autumn water Yiren woolen coat winter wear 2019 new women's Plaid suit collar bright line casual pocket coat plum red model display, tile display, retro chapter, product information, check it if you want to stand out from the crowd, yellow and white straight lines intersect and parallel, black, gray Everywhere, 1 polyphenylene film fiber, in fact, will be a little thinner than the slim fit model, color contrast white buttons, bright design, retro check pattern, small body is wrapped (contrast effect), highlight your thin and small, elastic: inelastic, style No.: 3, use neutral detergent, color: Plum red, O woolen suit , version: loose, thickness: moderate, tag price: length: medium length, maintenance method: 1658 yuan, component oxygen collar high collar time to market in winter of 2019 length medium long version loose material imitation fabric suitable for 25-29 years old sleeve type regular sleeve thickness regular style Korean pattern check pop element pocket sleeve length long sleeve Double breasted < SEP > modern plaid pattern, with elegant taste and elegant taste, can not hide the goddess's style in every move. The oversized wide shoulder design is slim and slim, showing the girl's side of being a little bird.\""
      ]
     },
     "execution_count": 19,
     "metadata": {},
     "output_type": "execute_result"
    }
   ],
   "source": [
    "q = en_text"
   ]
  },
  {
   "cell_type": "code",
   "execution_count": 18,
   "metadata": {},
   "outputs": [
    {
     "data": {
      "text/plain": [
       "{'from': 'zh',\n",
       " 'to': 'en',\n",
       " 'trans_result': [{'src': '秋水伊人 毛 呢大衣 冬装 2019新款 女装 格纹 西装 领 亮线 休闲 口袋 外套 梅红 模特 展示 ， 平铺 展示 ， 复古 篇章 ， 产品 信息 ， 满大街 的 格纹 西装 ， 想 从 人群 中 脱颖而出 ， 就 PICK 它 啦 ， 黄色 和 白色 的 直线 ， 相交 平行 ， 黑色 的 ， 灰色 的 比比皆是 ， ， 1 聚苯 薄膜 纤维 ， 其实 会 比 修身 款 更 显瘦 一点 ， 撞色 白色 纽扣 ， 提亮 设计 ， 复古 格纹 ， 小小的 身材 被 包裹 住 ( 对比 效应 ) ， 凸显出 你 的 瘦小 啦 ! ， 弹性 : 无弹 ， 款 号 : ， 3 、 使用 中性 洗涤液 ， 颜色 : 梅红 ， o 呢子 西装 ， 版型 : 宽松 ， 厚度 : 适中 ， 吊牌 价 : ， 长度 : 中长款 ， 维护 方法 : ， 1658 元 ， 成分 含氧领型 高领 上市时间 2019年冬季 衣长 中长款 版型 宽松型 材质 仿呢料 适用年龄 25-29周岁 袖型 常规袖 厚度 常规 风格 韩版 图案 格子 流行元素 口袋 袖长 长袖 衣门襟 双排扣 <sep>摩登 格纹 复古 又 不失 优雅 品位 ， 举手投足 间 难 掩 女神 风采 。 oversized 款 宽肩 设计 修身 显瘦 ， 展现出 女生 小鸟依人 的 一面 。',\n",
       "   'dst': \"Autumn water Yiren woolen coat winter wear 2019 new women's Plaid suit collar bright line casual pocket coat plum red model display, tile display, retro chapter, product information, check it if you want to stand out from the crowd, yellow and white straight lines intersect and parallel, black, gray Everywhere, 1 polyphenylene film fiber, in fact, will be a little thinner than the slim fit model, color contrast white buttons, bright design, retro check pattern, small body is wrapped (contrast effect), highlight your thin and small, elastic: inelastic, style No.: 3, use neutral detergent, color: Plum red, O woolen suit , version: loose, thickness: moderate, tag price: length: medium length, maintenance method: 1658 yuan, component oxygen collar high collar time to market in winter of 2019 length medium long version loose material imitation fabric suitable for 25-29 years old sleeve type regular sleeve thickness regular style Korean pattern check pop element pocket sleeve length long sleeve Double breasted < SEP > modern plaid pattern, with elegant taste and elegant taste, can not hide the goddess's style in every move. The oversized wide shoulder design is slim and slim, showing the girl's side of being a little bird.\"}]}"
      ]
     },
     "execution_count": 18,
     "metadata": {},
     "output_type": "execute_result"
    }
   ],
   "source": [
    "en_text"
   ]
  },
  {
   "cell_type": "code",
   "execution_count": 13,
   "metadata": {},
   "outputs": [
    {
     "data": {
      "text/plain": [
       "{'from': 'en',\n",
       " 'to': 'zh',\n",
       " 'trans_result': [{'src': \"Autumn water Yiren woolen coat winter wear 2019 new women's Plaid suit collar bright line casual pocket coat plum red model display, tile display, retro chapter, product information, check it if you want to stand out from the crowd, yellow and white straight lines intersect and parallel, black, gray Everywhere, 1 polyphenylene film fiber, in fact, will be a little thinner than the slim fit model, color contrast white buttons, bright design, retro check pattern, small body is wrapped (contrast effect), highlight your thin and small, elastic: inelastic, style No.: 3, use neutral detergent, color: Plum red, O woolen suit , version: loose, thickness: moderate, tag price: length: medium length, maintenance method: 1658 yuan, component oxygen collar high collar time to market in winter of 2019 length medium long version loose material imitation fabric suitable for 25-29 years old sleeve type regular sleeve thickness regular style Korean pattern check pop element pocket sleeve length long sleeve Double breasted < SEP > modern plaid pattern, with elegant taste and elegant taste, can not hide the goddess's style in every move. The oversized wide shoulder design is slim and slim, showing the girl's side of being a little bird.\",\n",
       "   'dst': '秋水宜人羊毛外套冬装2019新款女式格子西装领口亮丽线条休闲口袋外套梅花红色模特展示，瓷砖展示，复古篇章，产品信息，看看你想从人群中脱颖而出，黄白色直线相交平行，黑色、灰色无处不在，1聚苯薄膜纤维，其实，会比修身版型稍薄，颜色对比白色纽扣，亮丽的设计，复古格子图案，小身段被包裹（对比效果），凸显你的瘦小，有弹性：无弹性，款式号：3，使用中性洗涤剂，颜色：梅花红，O羊毛套装，版本：宽松，厚度：适中，标签价格：长度：中长，保养方式：1658元，成分氧衣领高领2019年冬季上市长度中长版宽松材料仿面料适合25-29岁袖子类型常规袖厚度常规风格韩式图案格子口袋袖长长袖双排扣<SEP>现代格子图案，以高雅的品位和优雅的品位，掩饰不住女神的一举一动。超大宽肩设计修身修身，展现出女孩小小鸟的一面。'}]}"
      ]
     },
     "execution_count": 13,
     "metadata": {},
     "output_type": "execute_result"
    }
   ],
   "source": [
    "q= \"Autumn water Yiren woolen coat winter wear 2019 new women's Plaid suit collar bright line casual pocket coat plum red model display, tile display, retro chapter, product information, check it if you want to stand out from the crowd, yellow and white straight lines intersect and parallel, black, gray Everywhere, 1 polyphenylene film fiber, in fact, will be a little thinner than the slim fit model, color contrast white buttons, bright design, retro check pattern, small body is wrapped (contrast effect), highlight your thin and small, elastic: inelastic, style No.: 3, use neutral detergent, color: Plum red, O woolen suit , version: loose, thickness: moderate, tag price: length: medium length, maintenance method: 1658 yuan, component oxygen collar high collar time to market in winter of 2019 length medium long version loose material imitation fabric suitable for 25-29 years old sleeve type regular sleeve thickness regular style Korean pattern check pop element pocket sleeve length long sleeve Double breasted < SEP > modern plaid pattern, with elegant taste and elegant taste, can not hide the goddess's style in every move. The oversized wide shoulder design is slim and slim, showing the girl's side of being a little bird.\"\n"
   ]
  },
  {
   "cell_type": "code",
   "execution_count": null,
   "metadata": {},
   "outputs": [],
   "source": []
  },
  {
   "cell_type": "code",
   "execution_count": null,
   "metadata": {},
   "outputs": [],
   "source": [
    "from __future__ import unicode_literals, print_function, division\n",
    "from io import open\n",
    "import unicodedata\n",
    "import string\n",
    "import re\n",
    "import random\n",
    "\n",
    "import torch\n",
    "import torch.nn as nn\n",
    "from torch import optim\n",
    "import torch.nn.functional as F\n",
    "\n",
    "device = torch.device(\"cuda\" if torch.cuda.is_available() else \"cpu\")"
   ]
  },
  {
   "cell_type": "code",
   "execution_count": null,
   "metadata": {},
   "outputs": [],
   "source": [
    "SOS_token = 0\n",
    "EOS_token = 1\n",
    "\n",
    "class Lang:\n",
    "    def __init__(self, name):\n",
    "        self.name = name\n",
    "        self.word2index = {}\n",
    "        self.word2count = {}\n",
    "        self.index2word = {0: \"SOS\", 1: \"EOS\"}\n",
    "        self.n_words = 2  # Count SOS and EOS\n",
    "\n",
    "    def addSentence(self, sentence):\n",
    "        for word in sentence.split(' '):\n",
    "            self.addWord(word)\n",
    "\n",
    "    def addWord(self, word):\n",
    "        if word not in self.word2index:\n",
    "            self.word2index[word] = self.n_words\n",
    "            self.word2count[word] = 1\n",
    "            self.index2word[self.n_words] = word\n",
    "            self.n_words += 1\n",
    "        else:\n",
    "            self.word2count[word] += 1"
   ]
  },
  {
   "cell_type": "code",
   "execution_count": null,
   "metadata": {},
   "outputs": [],
   "source": [
    "# Turn a Unicode string to plain ASCII, thanks to\n",
    "# https://stackoverflow.com/a/518232/2809427\n",
    "def unicodeToAscii(s):\n",
    "    return ''.join(\n",
    "        c for c in unicodedata.normalize('NFD', s)\n",
    "        if unicodedata.category(c) != 'Mn'\n",
    "    )\n",
    "\n",
    "# Lowercase, trim, and remove non-letter characters\n",
    "\n",
    "def normalizeString(s):\n",
    "    s = unicodeToAscii(s.lower().strip())\n",
    "    s = re.sub(r\"([.!?])\", r\" \\1\", s)\n",
    "    s = re.sub(r\"[^a-zA-Z.!?]+\", r\" \", s)\n",
    "    return s"
   ]
  },
  {
   "cell_type": "code",
   "execution_count": null,
   "metadata": {},
   "outputs": [],
   "source": [
    "def readLangs(lang1, lang2, reverse=False):\n",
    "    print(\"Reading lines...\")\n",
    "\n",
    "    # Read the file and split into lines\n",
    "    lines = open('data/%s-%s.txt' % (lang1, lang2), encoding='utf-8').\\\n",
    "        read().strip().split('\\n')\n",
    "\n",
    "    # Split every line into pairs and normalize\n",
    "    pairs = [[normalizeString(s) for s in l.split('\\t')] for l in lines]\n",
    "\n",
    "    # Reverse pairs, make Lang instances\n",
    "    if reverse:\n",
    "        pairs = [list(reversed(p)) for p in pairs]\n",
    "        input_lang = Lang(lang2)\n",
    "        output_lang = Lang(lang1)\n",
    "    else:\n",
    "        input_lang = Lang(lang1)\n",
    "        output_lang = Lang(lang2)\n",
    "\n",
    "    return input_lang, output_lang, pairs"
   ]
  },
  {
   "cell_type": "code",
   "execution_count": null,
   "metadata": {},
   "outputs": [],
   "source": [
    "MAX_LENGTH = 10\n",
    "\n",
    "eng_prefixes = (\n",
    "    \"i am \", \"i m \",\n",
    "    \"he is\", \"he s \",\n",
    "    \"she is\", \"she s \",\n",
    "    \"you are\", \"you re \",\n",
    "    \"we are\", \"we re \",\n",
    "    \"they are\", \"they re \"\n",
    ")\n",
    "\n",
    "def filterPair(p):\n",
    "    return len(p[0].split(' ')) < MAX_LENGTH and \\\n",
    "        len(p[1].split(' ')) < MAX_LENGTH and \\\n",
    "        p[1].startswith(eng_prefixes)\n",
    "\n",
    "def filterPairs(pairs):\n",
    "    return [pair for pair in pairs if filterPair(pair)]"
   ]
  },
  {
   "cell_type": "code",
   "execution_count": null,
   "metadata": {},
   "outputs": [],
   "source": [
    "def prepareData(lang1, lang2, reverse=False):\n",
    "    input_lang, output_lang, pairs = readLangs(lang1, lang2, reverse)\n",
    "    print(\"Read %s sentence pairs\" % len(pairs))\n",
    "    pairs = filterPairs(pairs)\n",
    "    print(\"Trimmed to %s sentence pairs\" % len(pairs))\n",
    "    print(\"Counting words...\")\n",
    "    for pair in pairs:\n",
    "        input_lang.addSentence(pair[0])\n",
    "        output_lang.addSentence(pair[1])\n",
    "    print(\"Counted words:\")\n",
    "    print(input_lang.name, input_lang.n_words)\n",
    "    print(output_lang.name, output_lang.n_words)\n",
    "    return input_lang, output_lang, pairs\n",
    "\n",
    "input_lang, output_lang, pairs = prepareData('eng', 'fra', True)\n",
    "print(random.choice(pairs))"
   ]
  },
  {
   "cell_type": "code",
   "execution_count": null,
   "metadata": {},
   "outputs": [],
   "source": []
  },
  {
   "cell_type": "code",
   "execution_count": 1,
   "metadata": {},
   "outputs": [],
   "source": [
    "import boto3\n",
    "\n",
    "translate = boto3.client(service_name='translate', region_name='mifranky07@163.com', use_ssl=True)"
   ]
  },
  {
   "cell_type": "code",
   "execution_count": 2,
   "metadata": {},
   "outputs": [
    {
     "ename": "NoCredentialsError",
     "evalue": "Unable to locate credentials",
     "output_type": "error",
     "traceback": [
      "\u001b[1;31m---------------------------------------------------------------------------\u001b[0m",
      "\u001b[1;31mNoCredentialsError\u001b[0m                        Traceback (most recent call last)",
      "\u001b[1;32m<ipython-input-2-ff9b02b29319>\u001b[0m in \u001b[0;36m<module>\u001b[1;34m\u001b[0m\n\u001b[0;32m      1\u001b[0m result = translate.translate_text(Text=\"Hello, World\", \n\u001b[1;32m----> 2\u001b[1;33m             SourceLanguageCode=\"en\", TargetLanguageCode=\"de\")\n\u001b[0m\u001b[0;32m      3\u001b[0m \u001b[0mprint\u001b[0m\u001b[1;33m(\u001b[0m\u001b[1;34m'TranslatedText: '\u001b[0m \u001b[1;33m+\u001b[0m \u001b[0mresult\u001b[0m\u001b[1;33m.\u001b[0m\u001b[0mget\u001b[0m\u001b[1;33m(\u001b[0m\u001b[1;34m'TranslatedText'\u001b[0m\u001b[1;33m)\u001b[0m\u001b[1;33m)\u001b[0m\u001b[1;33m\u001b[0m\u001b[1;33m\u001b[0m\u001b[0m\n\u001b[0;32m      4\u001b[0m \u001b[0mprint\u001b[0m\u001b[1;33m(\u001b[0m\u001b[1;34m'SourceLanguageCode: '\u001b[0m \u001b[1;33m+\u001b[0m \u001b[0mresult\u001b[0m\u001b[1;33m.\u001b[0m\u001b[0mget\u001b[0m\u001b[1;33m(\u001b[0m\u001b[1;34m'SourceLanguageCode'\u001b[0m\u001b[1;33m)\u001b[0m\u001b[1;33m)\u001b[0m\u001b[1;33m\u001b[0m\u001b[1;33m\u001b[0m\u001b[0m\n\u001b[0;32m      5\u001b[0m \u001b[0mprint\u001b[0m\u001b[1;33m(\u001b[0m\u001b[1;34m'TargetLanguageCode: '\u001b[0m \u001b[1;33m+\u001b[0m \u001b[0mresult\u001b[0m\u001b[1;33m.\u001b[0m\u001b[0mget\u001b[0m\u001b[1;33m(\u001b[0m\u001b[1;34m'TargetLanguageCode'\u001b[0m\u001b[1;33m)\u001b[0m\u001b[1;33m)\u001b[0m\u001b[1;33m\u001b[0m\u001b[1;33m\u001b[0m\u001b[0m\n",
      "\u001b[1;32mc:\\users\\frank\\appdata\\local\\programs\\python\\python37\\lib\\site-packages\\botocore\\client.py\u001b[0m in \u001b[0;36m_api_call\u001b[1;34m(self, *args, **kwargs)\u001b[0m\n\u001b[0;32m    314\u001b[0m                     \"%s() only accepts keyword arguments.\" % py_operation_name)\n\u001b[0;32m    315\u001b[0m             \u001b[1;31m# The \"self\" in this scope is referring to the BaseClient.\u001b[0m\u001b[1;33m\u001b[0m\u001b[1;33m\u001b[0m\u001b[1;33m\u001b[0m\u001b[0m\n\u001b[1;32m--> 316\u001b[1;33m             \u001b[1;32mreturn\u001b[0m \u001b[0mself\u001b[0m\u001b[1;33m.\u001b[0m\u001b[0m_make_api_call\u001b[0m\u001b[1;33m(\u001b[0m\u001b[0moperation_name\u001b[0m\u001b[1;33m,\u001b[0m \u001b[0mkwargs\u001b[0m\u001b[1;33m)\u001b[0m\u001b[1;33m\u001b[0m\u001b[1;33m\u001b[0m\u001b[0m\n\u001b[0m\u001b[0;32m    317\u001b[0m \u001b[1;33m\u001b[0m\u001b[0m\n\u001b[0;32m    318\u001b[0m         \u001b[0m_api_call\u001b[0m\u001b[1;33m.\u001b[0m\u001b[0m__name__\u001b[0m \u001b[1;33m=\u001b[0m \u001b[0mstr\u001b[0m\u001b[1;33m(\u001b[0m\u001b[0mpy_operation_name\u001b[0m\u001b[1;33m)\u001b[0m\u001b[1;33m\u001b[0m\u001b[1;33m\u001b[0m\u001b[0m\n",
      "\u001b[1;32mc:\\users\\frank\\appdata\\local\\programs\\python\\python37\\lib\\site-packages\\botocore\\client.py\u001b[0m in \u001b[0;36m_make_api_call\u001b[1;34m(self, operation_name, api_params)\u001b[0m\n\u001b[0;32m    620\u001b[0m         \u001b[1;32melse\u001b[0m\u001b[1;33m:\u001b[0m\u001b[1;33m\u001b[0m\u001b[1;33m\u001b[0m\u001b[0m\n\u001b[0;32m    621\u001b[0m             http, parsed_response = self._make_request(\n\u001b[1;32m--> 622\u001b[1;33m                 operation_model, request_dict, request_context)\n\u001b[0m\u001b[0;32m    623\u001b[0m \u001b[1;33m\u001b[0m\u001b[0m\n\u001b[0;32m    624\u001b[0m         self.meta.events.emit(\n",
      "\u001b[1;32mc:\\users\\frank\\appdata\\local\\programs\\python\\python37\\lib\\site-packages\\botocore\\client.py\u001b[0m in \u001b[0;36m_make_request\u001b[1;34m(self, operation_model, request_dict, request_context)\u001b[0m\n\u001b[0;32m    639\u001b[0m     \u001b[1;32mdef\u001b[0m \u001b[0m_make_request\u001b[0m\u001b[1;33m(\u001b[0m\u001b[0mself\u001b[0m\u001b[1;33m,\u001b[0m \u001b[0moperation_model\u001b[0m\u001b[1;33m,\u001b[0m \u001b[0mrequest_dict\u001b[0m\u001b[1;33m,\u001b[0m \u001b[0mrequest_context\u001b[0m\u001b[1;33m)\u001b[0m\u001b[1;33m:\u001b[0m\u001b[1;33m\u001b[0m\u001b[1;33m\u001b[0m\u001b[0m\n\u001b[0;32m    640\u001b[0m         \u001b[1;32mtry\u001b[0m\u001b[1;33m:\u001b[0m\u001b[1;33m\u001b[0m\u001b[1;33m\u001b[0m\u001b[0m\n\u001b[1;32m--> 641\u001b[1;33m             \u001b[1;32mreturn\u001b[0m \u001b[0mself\u001b[0m\u001b[1;33m.\u001b[0m\u001b[0m_endpoint\u001b[0m\u001b[1;33m.\u001b[0m\u001b[0mmake_request\u001b[0m\u001b[1;33m(\u001b[0m\u001b[0moperation_model\u001b[0m\u001b[1;33m,\u001b[0m \u001b[0mrequest_dict\u001b[0m\u001b[1;33m)\u001b[0m\u001b[1;33m\u001b[0m\u001b[1;33m\u001b[0m\u001b[0m\n\u001b[0m\u001b[0;32m    642\u001b[0m         \u001b[1;32mexcept\u001b[0m \u001b[0mException\u001b[0m \u001b[1;32mas\u001b[0m \u001b[0me\u001b[0m\u001b[1;33m:\u001b[0m\u001b[1;33m\u001b[0m\u001b[1;33m\u001b[0m\u001b[0m\n\u001b[0;32m    643\u001b[0m             self.meta.events.emit(\n",
      "\u001b[1;32mc:\\users\\frank\\appdata\\local\\programs\\python\\python37\\lib\\site-packages\\botocore\\endpoint.py\u001b[0m in \u001b[0;36mmake_request\u001b[1;34m(self, operation_model, request_dict)\u001b[0m\n\u001b[0;32m    100\u001b[0m         logger.debug(\"Making request for %s with params: %s\",\n\u001b[0;32m    101\u001b[0m                      operation_model, request_dict)\n\u001b[1;32m--> 102\u001b[1;33m         \u001b[1;32mreturn\u001b[0m \u001b[0mself\u001b[0m\u001b[1;33m.\u001b[0m\u001b[0m_send_request\u001b[0m\u001b[1;33m(\u001b[0m\u001b[0mrequest_dict\u001b[0m\u001b[1;33m,\u001b[0m \u001b[0moperation_model\u001b[0m\u001b[1;33m)\u001b[0m\u001b[1;33m\u001b[0m\u001b[1;33m\u001b[0m\u001b[0m\n\u001b[0m\u001b[0;32m    103\u001b[0m \u001b[1;33m\u001b[0m\u001b[0m\n\u001b[0;32m    104\u001b[0m     \u001b[1;32mdef\u001b[0m \u001b[0mcreate_request\u001b[0m\u001b[1;33m(\u001b[0m\u001b[0mself\u001b[0m\u001b[1;33m,\u001b[0m \u001b[0mparams\u001b[0m\u001b[1;33m,\u001b[0m \u001b[0moperation_model\u001b[0m\u001b[1;33m=\u001b[0m\u001b[1;32mNone\u001b[0m\u001b[1;33m)\u001b[0m\u001b[1;33m:\u001b[0m\u001b[1;33m\u001b[0m\u001b[1;33m\u001b[0m\u001b[0m\n",
      "\u001b[1;32mc:\\users\\frank\\appdata\\local\\programs\\python\\python37\\lib\\site-packages\\botocore\\endpoint.py\u001b[0m in \u001b[0;36m_send_request\u001b[1;34m(self, request_dict, operation_model)\u001b[0m\n\u001b[0;32m    130\u001b[0m     \u001b[1;32mdef\u001b[0m \u001b[0m_send_request\u001b[0m\u001b[1;33m(\u001b[0m\u001b[0mself\u001b[0m\u001b[1;33m,\u001b[0m \u001b[0mrequest_dict\u001b[0m\u001b[1;33m,\u001b[0m \u001b[0moperation_model\u001b[0m\u001b[1;33m)\u001b[0m\u001b[1;33m:\u001b[0m\u001b[1;33m\u001b[0m\u001b[1;33m\u001b[0m\u001b[0m\n\u001b[0;32m    131\u001b[0m         \u001b[0mattempts\u001b[0m \u001b[1;33m=\u001b[0m \u001b[1;36m1\u001b[0m\u001b[1;33m\u001b[0m\u001b[1;33m\u001b[0m\u001b[0m\n\u001b[1;32m--> 132\u001b[1;33m         \u001b[0mrequest\u001b[0m \u001b[1;33m=\u001b[0m \u001b[0mself\u001b[0m\u001b[1;33m.\u001b[0m\u001b[0mcreate_request\u001b[0m\u001b[1;33m(\u001b[0m\u001b[0mrequest_dict\u001b[0m\u001b[1;33m,\u001b[0m \u001b[0moperation_model\u001b[0m\u001b[1;33m)\u001b[0m\u001b[1;33m\u001b[0m\u001b[1;33m\u001b[0m\u001b[0m\n\u001b[0m\u001b[0;32m    133\u001b[0m         \u001b[0mcontext\u001b[0m \u001b[1;33m=\u001b[0m \u001b[0mrequest_dict\u001b[0m\u001b[1;33m[\u001b[0m\u001b[1;34m'context'\u001b[0m\u001b[1;33m]\u001b[0m\u001b[1;33m\u001b[0m\u001b[1;33m\u001b[0m\u001b[0m\n\u001b[0;32m    134\u001b[0m         success_response, exception = self._get_response(\n",
      "\u001b[1;32mc:\\users\\frank\\appdata\\local\\programs\\python\\python37\\lib\\site-packages\\botocore\\endpoint.py\u001b[0m in \u001b[0;36mcreate_request\u001b[1;34m(self, params, operation_model)\u001b[0m\n\u001b[0;32m    114\u001b[0m                 op_name=operation_model.name)\n\u001b[0;32m    115\u001b[0m             self._event_emitter.emit(event_name, request=request,\n\u001b[1;32m--> 116\u001b[1;33m                                      operation_name=operation_model.name)\n\u001b[0m\u001b[0;32m    117\u001b[0m         \u001b[0mprepared_request\u001b[0m \u001b[1;33m=\u001b[0m \u001b[0mself\u001b[0m\u001b[1;33m.\u001b[0m\u001b[0mprepare_request\u001b[0m\u001b[1;33m(\u001b[0m\u001b[0mrequest\u001b[0m\u001b[1;33m)\u001b[0m\u001b[1;33m\u001b[0m\u001b[1;33m\u001b[0m\u001b[0m\n\u001b[0;32m    118\u001b[0m         \u001b[1;32mreturn\u001b[0m \u001b[0mprepared_request\u001b[0m\u001b[1;33m\u001b[0m\u001b[1;33m\u001b[0m\u001b[0m\n",
      "\u001b[1;32mc:\\users\\frank\\appdata\\local\\programs\\python\\python37\\lib\\site-packages\\botocore\\hooks.py\u001b[0m in \u001b[0;36memit\u001b[1;34m(self, event_name, **kwargs)\u001b[0m\n\u001b[0;32m    354\u001b[0m     \u001b[1;32mdef\u001b[0m \u001b[0memit\u001b[0m\u001b[1;33m(\u001b[0m\u001b[0mself\u001b[0m\u001b[1;33m,\u001b[0m \u001b[0mevent_name\u001b[0m\u001b[1;33m,\u001b[0m \u001b[1;33m**\u001b[0m\u001b[0mkwargs\u001b[0m\u001b[1;33m)\u001b[0m\u001b[1;33m:\u001b[0m\u001b[1;33m\u001b[0m\u001b[1;33m\u001b[0m\u001b[0m\n\u001b[0;32m    355\u001b[0m         \u001b[0maliased_event_name\u001b[0m \u001b[1;33m=\u001b[0m \u001b[0mself\u001b[0m\u001b[1;33m.\u001b[0m\u001b[0m_alias_event_name\u001b[0m\u001b[1;33m(\u001b[0m\u001b[0mevent_name\u001b[0m\u001b[1;33m)\u001b[0m\u001b[1;33m\u001b[0m\u001b[1;33m\u001b[0m\u001b[0m\n\u001b[1;32m--> 356\u001b[1;33m         \u001b[1;32mreturn\u001b[0m \u001b[0mself\u001b[0m\u001b[1;33m.\u001b[0m\u001b[0m_emitter\u001b[0m\u001b[1;33m.\u001b[0m\u001b[0memit\u001b[0m\u001b[1;33m(\u001b[0m\u001b[0maliased_event_name\u001b[0m\u001b[1;33m,\u001b[0m \u001b[1;33m**\u001b[0m\u001b[0mkwargs\u001b[0m\u001b[1;33m)\u001b[0m\u001b[1;33m\u001b[0m\u001b[1;33m\u001b[0m\u001b[0m\n\u001b[0m\u001b[0;32m    357\u001b[0m \u001b[1;33m\u001b[0m\u001b[0m\n\u001b[0;32m    358\u001b[0m     \u001b[1;32mdef\u001b[0m \u001b[0memit_until_response\u001b[0m\u001b[1;33m(\u001b[0m\u001b[0mself\u001b[0m\u001b[1;33m,\u001b[0m \u001b[0mevent_name\u001b[0m\u001b[1;33m,\u001b[0m \u001b[1;33m**\u001b[0m\u001b[0mkwargs\u001b[0m\u001b[1;33m)\u001b[0m\u001b[1;33m:\u001b[0m\u001b[1;33m\u001b[0m\u001b[1;33m\u001b[0m\u001b[0m\n",
      "\u001b[1;32mc:\\users\\frank\\appdata\\local\\programs\\python\\python37\\lib\\site-packages\\botocore\\hooks.py\u001b[0m in \u001b[0;36memit\u001b[1;34m(self, event_name, **kwargs)\u001b[0m\n\u001b[0;32m    226\u001b[0m                  \u001b[0mhandlers\u001b[0m\u001b[1;33m.\u001b[0m\u001b[1;33m\u001b[0m\u001b[1;33m\u001b[0m\u001b[0m\n\u001b[0;32m    227\u001b[0m         \"\"\"\n\u001b[1;32m--> 228\u001b[1;33m         \u001b[1;32mreturn\u001b[0m \u001b[0mself\u001b[0m\u001b[1;33m.\u001b[0m\u001b[0m_emit\u001b[0m\u001b[1;33m(\u001b[0m\u001b[0mevent_name\u001b[0m\u001b[1;33m,\u001b[0m \u001b[0mkwargs\u001b[0m\u001b[1;33m)\u001b[0m\u001b[1;33m\u001b[0m\u001b[1;33m\u001b[0m\u001b[0m\n\u001b[0m\u001b[0;32m    229\u001b[0m \u001b[1;33m\u001b[0m\u001b[0m\n\u001b[0;32m    230\u001b[0m     \u001b[1;32mdef\u001b[0m \u001b[0memit_until_response\u001b[0m\u001b[1;33m(\u001b[0m\u001b[0mself\u001b[0m\u001b[1;33m,\u001b[0m \u001b[0mevent_name\u001b[0m\u001b[1;33m,\u001b[0m \u001b[1;33m**\u001b[0m\u001b[0mkwargs\u001b[0m\u001b[1;33m)\u001b[0m\u001b[1;33m:\u001b[0m\u001b[1;33m\u001b[0m\u001b[1;33m\u001b[0m\u001b[0m\n",
      "\u001b[1;32mc:\\users\\frank\\appdata\\local\\programs\\python\\python37\\lib\\site-packages\\botocore\\hooks.py\u001b[0m in \u001b[0;36m_emit\u001b[1;34m(self, event_name, kwargs, stop_on_response)\u001b[0m\n\u001b[0;32m    209\u001b[0m         \u001b[1;32mfor\u001b[0m \u001b[0mhandler\u001b[0m \u001b[1;32min\u001b[0m \u001b[0mhandlers_to_call\u001b[0m\u001b[1;33m:\u001b[0m\u001b[1;33m\u001b[0m\u001b[1;33m\u001b[0m\u001b[0m\n\u001b[0;32m    210\u001b[0m             \u001b[0mlogger\u001b[0m\u001b[1;33m.\u001b[0m\u001b[0mdebug\u001b[0m\u001b[1;33m(\u001b[0m\u001b[1;34m'Event %s: calling handler %s'\u001b[0m\u001b[1;33m,\u001b[0m \u001b[0mevent_name\u001b[0m\u001b[1;33m,\u001b[0m \u001b[0mhandler\u001b[0m\u001b[1;33m)\u001b[0m\u001b[1;33m\u001b[0m\u001b[1;33m\u001b[0m\u001b[0m\n\u001b[1;32m--> 211\u001b[1;33m             \u001b[0mresponse\u001b[0m \u001b[1;33m=\u001b[0m \u001b[0mhandler\u001b[0m\u001b[1;33m(\u001b[0m\u001b[1;33m**\u001b[0m\u001b[0mkwargs\u001b[0m\u001b[1;33m)\u001b[0m\u001b[1;33m\u001b[0m\u001b[1;33m\u001b[0m\u001b[0m\n\u001b[0m\u001b[0;32m    212\u001b[0m             \u001b[0mresponses\u001b[0m\u001b[1;33m.\u001b[0m\u001b[0mappend\u001b[0m\u001b[1;33m(\u001b[0m\u001b[1;33m(\u001b[0m\u001b[0mhandler\u001b[0m\u001b[1;33m,\u001b[0m \u001b[0mresponse\u001b[0m\u001b[1;33m)\u001b[0m\u001b[1;33m)\u001b[0m\u001b[1;33m\u001b[0m\u001b[1;33m\u001b[0m\u001b[0m\n\u001b[0;32m    213\u001b[0m             \u001b[1;32mif\u001b[0m \u001b[0mstop_on_response\u001b[0m \u001b[1;32mand\u001b[0m \u001b[0mresponse\u001b[0m \u001b[1;32mis\u001b[0m \u001b[1;32mnot\u001b[0m \u001b[1;32mNone\u001b[0m\u001b[1;33m:\u001b[0m\u001b[1;33m\u001b[0m\u001b[1;33m\u001b[0m\u001b[0m\n",
      "\u001b[1;32mc:\\users\\frank\\appdata\\local\\programs\\python\\python37\\lib\\site-packages\\botocore\\signers.py\u001b[0m in \u001b[0;36mhandler\u001b[1;34m(self, operation_name, request, **kwargs)\u001b[0m\n\u001b[0;32m     88\u001b[0m         \u001b[1;31m# this method is invoked to sign the request.\u001b[0m\u001b[1;33m\u001b[0m\u001b[1;33m\u001b[0m\u001b[1;33m\u001b[0m\u001b[0m\n\u001b[0;32m     89\u001b[0m         \u001b[1;31m# Don't call this method directly.\u001b[0m\u001b[1;33m\u001b[0m\u001b[1;33m\u001b[0m\u001b[1;33m\u001b[0m\u001b[0m\n\u001b[1;32m---> 90\u001b[1;33m         \u001b[1;32mreturn\u001b[0m \u001b[0mself\u001b[0m\u001b[1;33m.\u001b[0m\u001b[0msign\u001b[0m\u001b[1;33m(\u001b[0m\u001b[0moperation_name\u001b[0m\u001b[1;33m,\u001b[0m \u001b[0mrequest\u001b[0m\u001b[1;33m)\u001b[0m\u001b[1;33m\u001b[0m\u001b[1;33m\u001b[0m\u001b[0m\n\u001b[0m\u001b[0;32m     91\u001b[0m \u001b[1;33m\u001b[0m\u001b[0m\n\u001b[0;32m     92\u001b[0m     def sign(self, operation_name, request, region_name=None,\n",
      "\u001b[1;32mc:\\users\\frank\\appdata\\local\\programs\\python\\python37\\lib\\site-packages\\botocore\\signers.py\u001b[0m in \u001b[0;36msign\u001b[1;34m(self, operation_name, request, region_name, signing_type, expires_in, signing_name)\u001b[0m\n\u001b[0;32m    158\u001b[0m                     \u001b[1;32mraise\u001b[0m \u001b[0me\u001b[0m\u001b[1;33m\u001b[0m\u001b[1;33m\u001b[0m\u001b[0m\n\u001b[0;32m    159\u001b[0m \u001b[1;33m\u001b[0m\u001b[0m\n\u001b[1;32m--> 160\u001b[1;33m             \u001b[0mauth\u001b[0m\u001b[1;33m.\u001b[0m\u001b[0madd_auth\u001b[0m\u001b[1;33m(\u001b[0m\u001b[0mrequest\u001b[0m\u001b[1;33m)\u001b[0m\u001b[1;33m\u001b[0m\u001b[1;33m\u001b[0m\u001b[0m\n\u001b[0m\u001b[0;32m    161\u001b[0m \u001b[1;33m\u001b[0m\u001b[0m\n\u001b[0;32m    162\u001b[0m     \u001b[1;32mdef\u001b[0m \u001b[0m_choose_signer\u001b[0m\u001b[1;33m(\u001b[0m\u001b[0mself\u001b[0m\u001b[1;33m,\u001b[0m \u001b[0moperation_name\u001b[0m\u001b[1;33m,\u001b[0m \u001b[0msigning_type\u001b[0m\u001b[1;33m,\u001b[0m \u001b[0mcontext\u001b[0m\u001b[1;33m)\u001b[0m\u001b[1;33m:\u001b[0m\u001b[1;33m\u001b[0m\u001b[1;33m\u001b[0m\u001b[0m\n",
      "\u001b[1;32mc:\\users\\frank\\appdata\\local\\programs\\python\\python37\\lib\\site-packages\\botocore\\auth.py\u001b[0m in \u001b[0;36madd_auth\u001b[1;34m(self, request)\u001b[0m\n\u001b[0;32m    355\u001b[0m     \u001b[1;32mdef\u001b[0m \u001b[0madd_auth\u001b[0m\u001b[1;33m(\u001b[0m\u001b[0mself\u001b[0m\u001b[1;33m,\u001b[0m \u001b[0mrequest\u001b[0m\u001b[1;33m)\u001b[0m\u001b[1;33m:\u001b[0m\u001b[1;33m\u001b[0m\u001b[1;33m\u001b[0m\u001b[0m\n\u001b[0;32m    356\u001b[0m         \u001b[1;32mif\u001b[0m \u001b[0mself\u001b[0m\u001b[1;33m.\u001b[0m\u001b[0mcredentials\u001b[0m \u001b[1;32mis\u001b[0m \u001b[1;32mNone\u001b[0m\u001b[1;33m:\u001b[0m\u001b[1;33m\u001b[0m\u001b[1;33m\u001b[0m\u001b[0m\n\u001b[1;32m--> 357\u001b[1;33m             \u001b[1;32mraise\u001b[0m \u001b[0mNoCredentialsError\u001b[0m\u001b[1;33m\u001b[0m\u001b[1;33m\u001b[0m\u001b[0m\n\u001b[0m\u001b[0;32m    358\u001b[0m         \u001b[0mdatetime_now\u001b[0m \u001b[1;33m=\u001b[0m \u001b[0mdatetime\u001b[0m\u001b[1;33m.\u001b[0m\u001b[0mdatetime\u001b[0m\u001b[1;33m.\u001b[0m\u001b[0mutcnow\u001b[0m\u001b[1;33m(\u001b[0m\u001b[1;33m)\u001b[0m\u001b[1;33m\u001b[0m\u001b[1;33m\u001b[0m\u001b[0m\n\u001b[0;32m    359\u001b[0m         \u001b[0mrequest\u001b[0m\u001b[1;33m.\u001b[0m\u001b[0mcontext\u001b[0m\u001b[1;33m[\u001b[0m\u001b[1;34m'timestamp'\u001b[0m\u001b[1;33m]\u001b[0m \u001b[1;33m=\u001b[0m \u001b[0mdatetime_now\u001b[0m\u001b[1;33m.\u001b[0m\u001b[0mstrftime\u001b[0m\u001b[1;33m(\u001b[0m\u001b[0mSIGV4_TIMESTAMP\u001b[0m\u001b[1;33m)\u001b[0m\u001b[1;33m\u001b[0m\u001b[1;33m\u001b[0m\u001b[0m\n",
      "\u001b[1;31mNoCredentialsError\u001b[0m: Unable to locate credentials"
     ]
    }
   ],
   "source": [
    "\n",
    "\n",
    "result = translate.translate_text(Text=\"Hello, World\", \n",
    "            SourceLanguageCode=\"en\", TargetLanguageCode=\"de\")\n",
    "print('TranslatedText: ' + result.get('TranslatedText'))\n",
    "print('SourceLanguageCode: ' + result.get('SourceLanguageCode'))\n",
    "print('TargetLanguageCode: ' + result.get('TargetLanguageCode'))"
   ]
  },
  {
   "cell_type": "code",
   "execution_count": 62,
   "metadata": {},
   "outputs": [
    {
     "name": "stdout",
     "output_type": "stream",
     "text": [
      "1\n"
     ]
    },
    {
     "ename": "KeyError",
     "evalue": "'trans_result'",
     "output_type": "error",
     "traceback": [
      "\u001b[1;31m---------------------------------------------------------------------------\u001b[0m",
      "\u001b[1;31mKeyError\u001b[0m                                  Traceback (most recent call last)",
      "\u001b[1;32m<ipython-input-62-b3806a564396>\u001b[0m in \u001b[0;36m<module>\u001b[1;34m\u001b[0m\n\u001b[0;32m    112\u001b[0m     \u001b[0mhttpClient\u001b[0m \u001b[1;33m=\u001b[0m \u001b[0mhttp\u001b[0m\u001b[1;33m.\u001b[0m\u001b[0mclient\u001b[0m\u001b[1;33m.\u001b[0m\u001b[0mHTTPConnection\u001b[0m\u001b[1;33m(\u001b[0m\u001b[1;34m'api.fanyi.baidu.com'\u001b[0m\u001b[1;33m)\u001b[0m\u001b[1;33m\u001b[0m\u001b[1;33m\u001b[0m\u001b[0m\n\u001b[0;32m    113\u001b[0m \u001b[1;33m\u001b[0m\u001b[0m\n\u001b[1;32m--> 114\u001b[1;33m     \u001b[0mtranslate_continue\u001b[0m\u001b[1;33m(\u001b[0m\u001b[0mhttpClient\u001b[0m\u001b[1;33m,\u001b[0m \u001b[0msample_path\u001b[0m\u001b[1;33m,\u001b[0m \u001b[0mtranslate_path\u001b[0m\u001b[1;33m)\u001b[0m\u001b[1;33m\u001b[0m\u001b[1;33m\u001b[0m\u001b[0m\n\u001b[0m\u001b[0;32m    115\u001b[0m \u001b[1;33m\u001b[0m\u001b[0m\n\u001b[0;32m    116\u001b[0m \u001b[1;33m\u001b[0m\u001b[0m\n",
      "\u001b[1;32m<ipython-input-62-b3806a564396>\u001b[0m in \u001b[0;36mtranslate_continue\u001b[1;34m(httpClient, sample_path, translate_path)\u001b[0m\n\u001b[0;32m     85\u001b[0m             \u001b[1;31m# if '<*SEP*>' in :\u001b[0m\u001b[1;33m\u001b[0m\u001b[1;33m\u001b[0m\u001b[1;33m\u001b[0m\u001b[0m\n\u001b[0;32m     86\u001b[0m             \u001b[0msource\u001b[0m\u001b[1;33m,\u001b[0m \u001b[0mref\u001b[0m \u001b[1;33m=\u001b[0m \u001b[0mtuple\u001b[0m\u001b[1;33m(\u001b[0m\u001b[0mline\u001b[0m\u001b[1;33m.\u001b[0m\u001b[0mstrip\u001b[0m\u001b[1;33m(\u001b[0m\u001b[1;33m)\u001b[0m\u001b[1;33m.\u001b[0m\u001b[0msplit\u001b[0m\u001b[1;33m(\u001b[0m\u001b[1;34m'<sep>'\u001b[0m\u001b[1;33m)\u001b[0m\u001b[1;33m)\u001b[0m\u001b[1;33m\u001b[0m\u001b[1;33m\u001b[0m\u001b[0m\n\u001b[1;32m---> 87\u001b[1;33m             \u001b[0msource\u001b[0m \u001b[1;33m=\u001b[0m \u001b[0mback_translate\u001b[0m\u001b[1;33m(\u001b[0m\u001b[0mhttpClient\u001b[0m\u001b[1;33m,\u001b[0m \u001b[0msource\u001b[0m\u001b[1;33m.\u001b[0m\u001b[0mstrip\u001b[0m\u001b[1;33m(\u001b[0m\u001b[1;33m)\u001b[0m\u001b[1;33m)\u001b[0m\u001b[1;33m\u001b[0m\u001b[1;33m\u001b[0m\u001b[0m\n\u001b[0m\u001b[0;32m     88\u001b[0m             \u001b[0mref\u001b[0m \u001b[1;33m=\u001b[0m \u001b[0mback_translate\u001b[0m\u001b[1;33m(\u001b[0m\u001b[0mhttpClient\u001b[0m\u001b[1;33m,\u001b[0m \u001b[0mref\u001b[0m\u001b[1;33m.\u001b[0m\u001b[0mstrip\u001b[0m\u001b[1;33m(\u001b[0m\u001b[1;33m)\u001b[0m\u001b[1;33m)\u001b[0m\u001b[1;33m\u001b[0m\u001b[1;33m\u001b[0m\u001b[0m\n\u001b[0;32m     89\u001b[0m             \u001b[1;31m# print(sample)\u001b[0m\u001b[1;33m\u001b[0m\u001b[1;33m\u001b[0m\u001b[1;33m\u001b[0m\u001b[0m\n",
      "\u001b[1;32m<ipython-input-62-b3806a564396>\u001b[0m in \u001b[0;36mback_translate\u001b[1;34m(httpClient, q)\u001b[0m\n\u001b[0;32m     58\u001b[0m     \u001b[1;31m# print(en)\u001b[0m\u001b[1;33m\u001b[0m\u001b[1;33m\u001b[0m\u001b[1;33m\u001b[0m\u001b[0m\n\u001b[0;32m     59\u001b[0m     \u001b[0mtime\u001b[0m\u001b[1;33m.\u001b[0m\u001b[0msleep\u001b[0m\u001b[1;33m(\u001b[0m\u001b[1;36m0.5\u001b[0m\u001b[1;33m)\u001b[0m\u001b[1;33m\u001b[0m\u001b[1;33m\u001b[0m\u001b[0m\n\u001b[1;32m---> 60\u001b[1;33m     \u001b[0mtarget\u001b[0m \u001b[1;33m=\u001b[0m \u001b[0mtranslate\u001b[0m\u001b[1;33m(\u001b[0m\u001b[0mhttpClient\u001b[0m\u001b[1;33m,\u001b[0m \u001b[0men\u001b[0m\u001b[1;33m,\u001b[0m \u001b[1;34m\"en\"\u001b[0m\u001b[1;33m,\u001b[0m \u001b[1;34m'zh'\u001b[0m\u001b[1;33m)\u001b[0m\u001b[1;33m[\u001b[0m\u001b[1;34m'trans_result'\u001b[0m\u001b[1;33m]\u001b[0m\u001b[1;33m[\u001b[0m\u001b[1;36m0\u001b[0m\u001b[1;33m]\u001b[0m\u001b[1;33m[\u001b[0m\u001b[1;34m'dst'\u001b[0m\u001b[1;33m]\u001b[0m\u001b[1;33m\u001b[0m\u001b[1;33m\u001b[0m\u001b[0m\n\u001b[0m\u001b[0;32m     61\u001b[0m     \u001b[1;31m# print(target)\u001b[0m\u001b[1;33m\u001b[0m\u001b[1;33m\u001b[0m\u001b[1;33m\u001b[0m\u001b[0m\n\u001b[0;32m     62\u001b[0m     \u001b[0mtime\u001b[0m\u001b[1;33m.\u001b[0m\u001b[0msleep\u001b[0m\u001b[1;33m(\u001b[0m\u001b[1;36m0.5\u001b[0m\u001b[1;33m)\u001b[0m\u001b[1;33m\u001b[0m\u001b[1;33m\u001b[0m\u001b[0m\n",
      "\u001b[1;31mKeyError\u001b[0m: 'trans_result'"
     ]
    }
   ],
   "source": [
    "#!/usr/bin/python\n",
    "# -*- coding: UTF-8 -*-\n",
    "\"\"\"\n",
    "@Author: frank\n",
    "@Date: 2020-08-08 22:40:43\n",
    "@LastEditTime: \n",
    "@LastEditors: \n",
    "@Description: \n",
    "@File: back_translate.py\n",
    "\"\"\"\n",
    "# !pip3 install jieba==0.36.2\n",
    "import jieba\n",
    "import http.client\n",
    "import hashlib\n",
    "import urllib\n",
    "import random\n",
    "import json\n",
    "import time\n",
    "from data_utils import write_samples\n",
    "import jieba\n",
    "import os\n",
    "\n",
    "\n",
    "def translate(httpClient, q, source, target):\n",
    "    appid = '20200808000537685'  # 填写你的appid\n",
    "    secretKey = 'V1Z9oqVyyYLuNyvudPHG'  # 填写你的密钥\n",
    "\n",
    "    #httpClient = None\n",
    "    myurl = '/api/trans/vip/translate'\n",
    "\n",
    "    fromLang = source  # 原文语种\n",
    "    toLang = target  # 译文语种\n",
    "    salt = random.randint(32768, 65536)\n",
    "    sign = appid + q + str(salt) + secretKey\n",
    "    sign = hashlib.md5(sign.encode()).hexdigest()\n",
    "    myurl = '/api/trans/vip/translate' + '?appid=' + appid + '&q=' + urllib.parse.quote(\n",
    "        q) + '&from=' + fromLang + '&to=' + toLang + '&salt=' + str(\n",
    "        salt) + '&sign=' + sign\n",
    "\n",
    "    try:\n",
    "        \n",
    "        httpClient.request('GET', myurl)\n",
    "\n",
    "        # response是HTTPResponse对象\n",
    "        response = httpClient.getresponse()\n",
    "        result_all = response.read().decode(\"utf-8\")\n",
    "        result = json.loads(result_all)\n",
    "\n",
    "        return result\n",
    "\n",
    "    except Exception as e:\n",
    "        print(e)\n",
    "\n",
    "\n",
    "\n",
    "def back_translate(httpClient, q):\n",
    "    en = translate(httpClient, q, \"zh\", 'en')['trans_result'][0]['dst']\n",
    "    # print(en)\n",
    "    time.sleep(0.5)\n",
    "    target = translate(httpClient, en, \"en\", 'zh')['trans_result'][0]['dst']\n",
    "    # print(target)\n",
    "    time.sleep(0.5)\n",
    "    return target\n",
    "\n",
    "\n",
    "def translate_continue(httpClient, sample_path, translate_path):\n",
    "    if os.path.exists(translate_path):\n",
    "        with open(translate_path, 'r+', encoding='utf8') as file:\n",
    "            exit_len = len(list(file))\n",
    "    else:\n",
    "        with open(translate_path, 'w', encoding='utf8') as file:\n",
    "            exit_len = 0\n",
    "\n",
    "    translated = []\n",
    "    count = 0\n",
    "    with open(sample_path, 'r', encoding='utf8') as file:\n",
    "        for line in file:\n",
    "            # line = line.replace('<sep>', '<--->')\n",
    "            # print(line)\n",
    "            count += 1\n",
    "            print(count)\n",
    "            if count <= exit_len:\n",
    "                # print('continue')\n",
    "                continue\n",
    "            # if '<*SEP*>' in :\n",
    "            source, ref = tuple(line.strip().split('<sep>'))\n",
    "            source = back_translate(httpClient, source.strip())\n",
    "            ref = back_translate(httpClient, ref.strip())\n",
    "            # print(sample)\n",
    "            source = ' '.join(list(jieba.cut(source)))\n",
    "            ref = ' '.join(list(jieba.cut(ref)))\n",
    "            # print(source)\n",
    "            # print(ref )\n",
    "            translated.append(source + ' <sep> ' + ref)\n",
    "\n",
    "            if count % 10 == 0:\n",
    "                print(count)\n",
    "                write_samples(translated, translate_path, 'a')\n",
    "                translated = []\n",
    "            if count == 12 or count == 25:\n",
    "                write_samples(translated, translate_path, 'a')\n",
    "                break\n",
    "\n",
    "\n",
    "\n",
    "\n",
    "if __name__ == '__main__':\n",
    "    sample_path = 'output/samples.txt'\n",
    "    translate_path = 'output/translated.txt'\n",
    "    \n",
    "    \n",
    "    httpClient = http.client.HTTPConnection('api.fanyi.baidu.com')\n",
    "    \n",
    "    translate_continue(httpClient, sample_path, translate_path)\n",
    "    \n",
    "\n",
    "    if httpClient:\n",
    "        httpClient.close()"
   ]
  },
  {
   "cell_type": "code",
   "execution_count": null,
   "metadata": {},
   "outputs": [],
   "source": [
    "#!/usr/bin/python\n",
    "# -*- coding: UTF-8 -*-\n",
    "\"\"\"\n",
    "@Author: frank\n",
    "@Date: 2020-08-08 22:40:43\n",
    "@LastEditTime: \n",
    "@LastEditors: \n",
    "@Description: \n",
    "@File: back_translate.py\n",
    "\"\"\"\n",
    "# !pip3 install jieba==0.36.2\n",
    "import jieba\n",
    "import http.client\n",
    "import hashlib\n",
    "import urllib\n",
    "import random\n",
    "import json\n",
    "import time\n",
    "from data_utils import write_samples\n",
    "import jieba\n",
    "import os\n",
    "\n",
    "\n",
    "def translate(q, source, target):\n",
    "    appid = '20200808000537685'  # 填写你的appid\n",
    "    secretKey = 'V1Z9oqVyyYLuNyvudPHG'  # 填写你的密钥\n",
    "\n",
    "    httpClient = None\n",
    "    myurl = '/api/trans/vip/translate'\n",
    "\n",
    "    fromLang = source  # 原文语种\n",
    "    toLang = target  # 译文语种\n",
    "    salt = random.randint(32768, 65536)\n",
    "    sign = appid + q + str(salt) + secretKey\n",
    "    sign = hashlib.md5(sign.encode()).hexdigest()\n",
    "    myurl = '/api/trans/vip/translate' + '?appid=' + appid + '&q=' + urllib.parse.quote(\n",
    "        q) + '&from=' + fromLang + '&to=' + toLang + '&salt=' + str(\n",
    "        salt) + '&sign=' + sign\n",
    "\n",
    "    try:\n",
    "        httpClient = http.client.HTTPConnection('api.fanyi.baidu.com')\n",
    "        httpClient.request('GET', myurl)\n",
    "\n",
    "        # response是HTTPResponse对象\n",
    "        response = httpClient.getresponse()\n",
    "        result_all = response.read().decode(\"utf-8\")\n",
    "        result = json.loads(result_all)\n",
    "\n",
    "        return result\n",
    "\n",
    "    except Exception as e:\n",
    "        print(e)\n",
    "    finally:\n",
    "        if httpClient:\n",
    "            httpClient.close()\n",
    "\n",
    "\n",
    "def back_translate(q):\n",
    "    en = translate(q, \"zh\", 'en')['trans_result'][0]['dst']\n",
    "    # print(en)\n",
    "    time.sleep(1)\n",
    "    target = translate(en, \"en\", 'zh')['trans_result'][0]['dst']\n",
    "    # print(target)\n",
    "    time.sleep(1)\n",
    "    return target\n",
    "\n",
    "\n",
    "def translate_continue(sample_path, translate_path, force_len = 0):\n",
    "    if os.path.exists(translate_path):\n",
    "        with open(translate_path, 'r+', encoding='utf8') as file:\n",
    "            exit_len = len(list(file))\n",
    "    else:\n",
    "        with open(translate_path, 'w', encoding='utf8') as file:\n",
    "            exit_len = 0\n",
    "            \n",
    "    if force_len > 0:\n",
    "        exit_len = force_len\n",
    "\n",
    "    translated = []\n",
    "    count = 0\n",
    "    with open(sample_path, 'r', encoding='utf8') as file:\n",
    "        for line in file:\n",
    "            # line = line.replace('<sep>', '<--->')\n",
    "            # print(line)\n",
    "            count += 1\n",
    "            print(count)\n",
    "            if count <= exit_len:\n",
    "                # print('continue')\n",
    "                continue\n",
    "            # if '<*SEP*>' in :\n",
    "            source, ref = tuple(line.strip().split('<sep>'))\n",
    "            source = back_translate(source.strip())\n",
    "            ref = back_translate(ref.strip())\n",
    "            # print(sample)\n",
    "            source = ' '.join(list(jieba.cut(source)))\n",
    "            ref = ' '.join(list(jieba.cut(ref)))\n",
    "            # print(source)\n",
    "            # print(ref )\n",
    "            translated.append(source + ' <sep> ' + ref)\n",
    "\n",
    "            if count % 10 == 0:\n",
    "                print(count)\n",
    "                write_samples(translated, translate_path, 'a')\n",
    "                translated = []\n",
    "            if count == 12 or count == 25:\n",
    "                write_samples(translated, translate_path, 'a')\n",
    "                break\n",
    "\n",
    "\n",
    "\n",
    "\n",
    "if __name__ == '__main__':\n",
    "    sample_path = 'output/samples.txt'\n",
    "    translate_path = 'output/translated_x.txt'\n",
    "    translate_continue(sample_path, translate_path, 40001)"
   ]
  }
 ],
 "metadata": {
  "kernelspec": {
   "display_name": "Python 3",
   "language": "python",
   "name": "python3"
  },
  "language_info": {
   "codemirror_mode": {
    "name": "ipython",
    "version": 3
   },
   "file_extension": ".py",
   "mimetype": "text/x-python",
   "name": "python",
   "nbconvert_exporter": "python",
   "pygments_lexer": "ipython3",
   "version": "3.7.4"
  }
 },
 "nbformat": 4,
 "nbformat_minor": 4
}
